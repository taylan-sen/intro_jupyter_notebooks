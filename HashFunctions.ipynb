{
  "nbformat": 4,
  "nbformat_minor": 0,
  "metadata": {
    "colab": {
      "provenance": [],
      "collapsed_sections": [
        "6GIwE6eE3rzc"
      ],
      "include_colab_link": true
    },
    "kernelspec": {
      "name": "python3",
      "display_name": "Python 3"
    },
    "language_info": {
      "name": "python"
    }
  },
  "cells": [
    {
      "cell_type": "markdown",
      "metadata": {
        "id": "view-in-github",
        "colab_type": "text"
      },
      "source": [
        "<a href=\"https://colab.research.google.com/github/taylan-sen/intro_jupyter_notebooks/blob/main/HashFunctions.ipynb\" target=\"_parent\"><img src=\"https://colab.research.google.com/assets/colab-badge.svg\" alt=\"Open In Colab\"/></a>"
      ]
    },
    {
      "cell_type": "markdown",
      "source": [
        "DIRECTIONS: \n",
        "1. First, save your own copy of this notebook.\n",
        "  * click the button \"Open in colab\"\n",
        "  * File->Save\n",
        "1. Read through, executing the code cells as you go along.\n",
        "1. Answer all the questions labelled \"Question #\" directly into the notebook (following each question's specific directions).\n",
        "1. When finished, save, then download the .ipynb file (File->save; File->download->.ipynb)\n",
        "1. Upload the .ipynb file to canvas.\n",
        "\n",
        "For additional reference in understanding this material see the Naranyan et al textbook Chapter 1.\n"
      ],
      "metadata": {
        "id": "qMH6Ax4F8xDt"
      }
    },
    {
      "cell_type": "markdown",
      "source": [
        "# Hash Functions\n",
        "\n",
        "Hash function technology is ***crucial*** for enabling blockchain and cryptocurrency (more specifically, *secure* hash functions). Bitcoin uses hash functions for multiple purposes including authentication (proving who you are), tamper detection (ensuring established blocks of data are not modified), consensus (deciding the validity of new blocks as a group), and proof-of-work (game theory based incentives for taking part in the blockchain and supporting consensus).\n",
        "\n",
        "* [Purposes & Motivation](#purpose)\n",
        "  * checksums (tamper detection)\n",
        "  * digital signatures (authentication)\n",
        "  * password hashing (security)\n",
        "  * consensus & proof-of-work\n",
        "* [Definitions & Summary](#summary)\n",
        "  * input and output formats\n",
        "  * checksum examples\n",
        "* [Characteristics of Secure Hash Functions](#characteristics)\n",
        "  * collision resistance\n",
        "  * one-way\n",
        "  * puzzle friendliness"
      ],
      "metadata": {
        "id": "WO-uTKmgpnBG"
      }
    },
    {
      "cell_type": "markdown",
      "source": [
        "<a name='purpose'></a>\n",
        "<hr>\n",
        "\n",
        "## Purpose/Motivation\n",
        "Hash functions help solve several problems: \n",
        "\n",
        "**PROBLEM 1: Data transferred over the internet can be manipulated, is there an efficient way to detect manipulation?**  \n",
        "<img src=\"https://c.tenor.com/ageODCEgS2sAAAAC/tenor.gif\" width=\"300\">\n",
        "\n",
        "**PROBLEM 2: Its hard to tell if a person you are communicating with is the actual person they claim to be!!!**  (This problem/task is known as ***authentication***.)  \n",
        "<img src=\"https://www.datingadvice.com/wp-content/uploads/2017/09/gatedcommunity.jpg\" width=\"250\">\n",
        "<img src=\"https://bpb-us-w2.wpmucdn.com/sites.stedwards.edu/dist/f/1961/files/2014/02/online-dating2-1h3togt.jpg\" width=\"250\">  \n",
        "\n",
        "Hash functions allow us to solve these and other problems through:\n",
        "* **checksums**\n",
        "* **digital signatures**\n",
        "* **password hashing**\n",
        "\n",
        "### checksums for tamper/error detection\n",
        "\n",
        "Example 1: You want to send a large file over an insecure network to a friend and you want your friend to detect if it has been tampered with or if there are any transmission errors. You can send a short message over a secure/trusted channel (e.g. phone call). What should you make the short message so that your friend can detect if the original message has been changed? We call that short message a *checksum*. Certain hash functions have properties which make them a good way to generate checksums.\n",
        "\n",
        "\n",
        "### digital signatures for authentication\n",
        "\n",
        "Example 2: A teacher wants his classmates to be able to verify that messages posts on an online public discussion board came from him (as opposed to someone pretending to be him). He can put a short message (i.e. a \"public key\") in the syllabus that he hands out on the first day of class which does not remain secret. When he posts a message online, is there a way he can add a \"digital signature\" or short message that goes along with the original message that his students can use to verify he wrote the message?\n",
        "\n",
        "### password hashing for security\n",
        "\n",
        "Example 3: You want to allow users to set a password for your system, but you are not allowed to save their passwords. This is important for security considerations, since many people reuse passwords, you don't want to allow system operators to \"see\" what people's passwords are. Without storing the passwords, how can you tell if a user has the same password that they provided earlier? More specifically, you want to store some data other than the password (i.e. a password fingerprint), but data that only the password holder can demonstrably produce. Also, you need to ensure that having a fingerprint should not allow you to determine the original password.\n"
      ],
      "metadata": {
        "id": "6GIwE6eE3rzc"
      }
    },
    {
      "cell_type": "markdown",
      "source": [
        "<a name='summary'></a>\n",
        "<hr>\n",
        "\n",
        "## Definition & Summary\n",
        "\n",
        "**hash function:** a function that receives a <u>variable sized input</u> and produces a <u>fixed size output</u>.\n",
        "\n",
        "&emsp; _**example hash function:** divide the input number by a constant and output the remainder_\n",
        "\n",
        "Here is the code for this hash function which we will call *my8bitHash* (the \"8bit\" refering to the size of the output):\n"
      ],
      "metadata": {
        "id": "a7Q8pnjw3RsM"
      }
    },
    {
      "cell_type": "code",
      "source": [
        "def my8bitHash(inputNum):\n",
        "  \"\"\"Divides by 256 and returns the remainder.\"\"\"\n",
        "  # in python % is called the mod operator\n",
        "  return inputNum % 256\n",
        "\n",
        "print('my8bitHash(13) -->', my8bitHash(13))\n",
        "print('my8bitHash(1000) -->', my8bitHash(1000))\n",
        "print('my8bitHash(256) -->', my8bitHash(256))\n",
        "print('my8bitHash(269) -->', my8bitHash(269))"
      ],
      "metadata": {
        "id": "1xqen5UULGzg"
      },
      "execution_count": null,
      "outputs": []
    },
    {
      "cell_type": "markdown",
      "source": [
        "Note that the input values 13 and 269 both produce a hash value of 13. This is called a ***collision***.  Whenever the input space (all possible function inputs) is larger than the fixed output space (all possible outputs), there will be collisions. As we will discuss, the ability to easily find collisions is an undesireable property of hash functions which are used in cryptography, also called __*cryptographic hash functions*__ or __*secure hash algorithms*__ .  \n",
        "\n",
        "Also note with my8bitHash it is pretty trivial to come up with an input that will produce a desired hash value; consider that any number between 0 and 255 will *hash to itself*. This is an undesireable property of cryptographic hash functions. This property stated another way, my8bitHash is not a ***one-way function*** as it is easy to determine an input that produces a target output. \n",
        "\n",
        "It is also important to point out that my8bitHash is ***deterministic***; in other words, a given input will **always** produce the same output. Nondeterministic functions involve randomness or multiple *internal states* and may produce different outputs for the same input.\n",
        "\n",
        "A hash function output is also called the ***hash value***, the ***digest***, or simply just ***the hash***. "
      ],
      "metadata": {
        "id": "Ps9d_uqvOZEZ"
      }
    },
    {
      "cell_type": "markdown",
      "source": [
        "#### Input/Output formats: data types and number systems\n",
        "(binary, hex, decimal, ints, and strings)\n",
        "\n",
        "It is important to be aware of the many different ways and formats that messages/data and hash values can be represented on a computer, as well as \"on paper\", or on a screen. Python and most other programming languages have fundamental *data types* which include an integer type, usually specified as *int*, and a *string* data type (specified as str) which represents a string of letters or characters. The python function **type(<object>)** allows you to find out the data type (i.e. object type) of a variable."
      ],
      "metadata": {
        "id": "Xqz4QWaiA18o"
      }
    },
    {
      "cell_type": "code",
      "source": [
        "# Python int and str examples\n",
        "my_int = 56\n",
        "my_int2 = 4312451345134513  # An int this big causes other languages to overflow \n",
        "print('my_int type:', type(my_int))\n",
        "my_str = 'You got to pump it up!'\n",
        "my_str2 = '56'\n",
        "print('my_str2 type:', type(my_str2))\n",
        "my_str3 = '©§®µÄš™𐐷'\n",
        "print(my_int + 5)"
      ],
      "metadata": {
        "id": "axLXI4_cA0By"
      },
      "execution_count": null,
      "outputs": []
    },
    {
      "cell_type": "code",
      "source": [
        "# you can't do basic math with str \n",
        "print(my_str2 + 5) # error"
      ],
      "metadata": {
        "id": "OAg8f9yM-pmK"
      },
      "execution_count": null,
      "outputs": []
    },
    {
      "cell_type": "code",
      "source": [
        "# converting int to str and str to int\n",
        "x = 5\n",
        "str_x = str(x)\n",
        "s = '10'\n",
        "int_s = int(s)\n",
        "print(1 + int_s)"
      ],
      "metadata": {
        "id": "-C3mGFHV_EQM"
      },
      "execution_count": null,
      "outputs": []
    },
    {
      "cell_type": "code",
      "source": [
        "# not all strings can convert to int directly\n",
        "s = 'hello'\n",
        "int_s = int(s)"
      ],
      "metadata": {
        "id": "ScCIFjk0_fBh"
      },
      "execution_count": null,
      "outputs": []
    },
    {
      "cell_type": "markdown",
      "source": [
        "Notice that strings are *wrapped* in single quotes (you can also use double quotes).\n",
        "\n",
        "When integers are printed to the screen, it can be in a different base number system than the decimal (base 10) system we are familiar with. \n",
        "\n",
        "**Base 10.** Our implementation of my8bitHash expects input to be a base 10 (decimal) integer. In the base 10 number system, we use the digits 0,1,2,3,4,5,6,7,8,9. A shift of one digit to the left means the digit represents 10 times more (ex: 2 and 20), two spaces to the left means multiplying by 100. Stated another way, the rightmost position of a base 10 integer represents the number of *ones* ($10^0$), the second from the right position represents the number of *tens* ($10^1$), the third from the right position represents the number of *hundreds* ($10^2$), and the $n^{th}$ position from the right represents the number of $10^ns$. For example, the number 234 means: four ones, three tens, and two hundreds.\n",
        "\n",
        "**In base 2**, or binary, only the digits 0 and 1 are used. For example, 101 is a binary number representing the decimal number 5. (Note: we usually write binary numbers with a leading \"0b\" so that we don't confuse them with decimal numbers, i.e. 101 --> 0b101) The rightmost binary integer position represents the number of *ones* ($2^0$), the second from the right position represents the number of *twos* ($2^1$), the third position from the right represents the number of *fours* ($2^2$), the fourth position from the right represents the number of *eights* ($2^3$), and so on. Base 2 is especially important for computers since data is usually represented by elements that can be in one of only two states. For example, as mentioned earlier, the voltage on a wire can be either high or low, representing either a 1 or 0. Each digit in binary represents a ***bit*** of data. Eight bits of data are called a ***byte***. \n",
        "\n",
        "**In base 16**, also called hexadecimal, the sixteen digits 0,1,2,3,4,5,6,7,8,9,A,B,C,D,E,F are used. When writing a number in hexadecimal, we usually write it with a leading \"0x\". For example 0x10 represents 16 in base ten. A shift of one to the left represents multiplying by 16, a shift of two to the left represents multiplying by 256 (i.e. 16*16), and shifting by $n$ spaces to the left represents multiplying by $16^n$).\n",
        "\n",
        "\n",
        "|Decimal|Binary|Hexadecimal|\n",
        "|---:|---:|---:|\n",
        "|0|0|0|\n",
        "|1|1|1|\n",
        "|2|10|2|\n",
        "|3|11|3|\n",
        "|4|100|4|\n",
        "|5|101|5|\n",
        "|6|110|6|\n",
        "|7|111|7|\n",
        "|8|1000|8|\n",
        "|9|1001|9|\n",
        "|10|1010|A|\n",
        "|11|1011|B|\n",
        "|12|1100|C|\n",
        "|13|1101|D|\n",
        "|14|1110|E|\n",
        "|15|1111|F|\n",
        "|16|10000|10|\n",
        "|17|10001|11|\n",
        "\n",
        "Python provides some useful functions for converting numbers between bases:\n",
        "\n",
        "    bin(<input int>)                 # convert a number TO a binary str\n",
        "    hex(<input int>)                 # convert a number TO a hexadecimal str \n",
        "    int(<input str>, <source base>)  # convert FROM a base other than 10"
      ],
      "metadata": {
        "id": "zDX6pEDn91J8"
      }
    },
    {
      "cell_type": "code",
      "source": [
        "# bin and hex\n",
        "# The bin function converts an int (base 10) to a binary string\n",
        "b = bin(13)\n",
        "print('13 in binary is: ',b)\n",
        "print('type(b)=', type(b))\n",
        "\n",
        "# the hex function converts an int (base 10) into a base 16 string\n",
        "h = hex(13)\n",
        "print('13 in hexadecimal is: ',h)\n",
        "print('type(h)=', type(h))"
      ],
      "metadata": {
        "id": "LOHQs80D5CG8"
      },
      "execution_count": null,
      "outputs": []
    },
    {
      "cell_type": "code",
      "source": [
        "# int conversion\n",
        "# the int function can convert from a different base back into an int\n",
        "d = int(b,2) # binary to decimal\n",
        "print('d=',d)\n",
        "print('type(d)=', type(d))\n",
        "\n",
        "d2 = int(h,16) # hexadecimal to decimal\n",
        "print('d2=',d2)\n",
        "print('type(d2)=', type(d2))\n"
      ],
      "metadata": {
        "id": "gGIBEr8JcsXj"
      },
      "execution_count": null,
      "outputs": []
    },
    {
      "cell_type": "markdown",
      "source": [
        "Digital data can be represented as 1's and 0's, also called ***bits*** of data. Bits are typically grouped together in 8 bits at once, which are called ***bytes***. Python provides the following functions to convert ints and strings TO and FROM bytes:"
      ],
      "metadata": {
        "id": "wGGE8J6RM_J4"
      }
    },
    {
      "cell_type": "markdown",
      "source": [
        "\n",
        "\n",
        "    <input str>.encode()                 # converts a string into a byte 'array'\n",
        "    <input str>.decode()                 # converts bytes to a string\n",
        "    int.to_bytes(<input int>, \"big\")     # splits an integers binary representation to byte 'array'\n",
        "    int.from_bytes(<byte array>, \"big\")  # converts a byte array to int\n"
      ],
      "metadata": {
        "id": "Bq9cXTvl9brC"
      }
    },
    {
      "cell_type": "code",
      "source": [
        "# encode, decode example\n",
        "msg = 'Hello world!'\n",
        "msg_encoded = msg.encode()\n",
        "msg_decoded = msg_encoded.decode()\n",
        "print('msg:', msg)\n",
        "print('msg type: ', type(msg_encoded))\n",
        "print('msg_encoded:', msg_encoded)\n",
        "print('msg_encoded type:', type(msg_encoded))\n",
        "print('msg_decoded:', msg_decoded)\n",
        "print('msg_decoded type:', type(msg_decoded))\n",
        "\n"
      ],
      "metadata": {
        "id": "uZyyKnjWA9ZB"
      },
      "execution_count": null,
      "outputs": []
    },
    {
      "cell_type": "code",
      "source": [
        "# Below we see the steps of converting string data to an integer\n",
        "msg = 'Hello world!'\n",
        "msg_encoded = msg.encode()\n",
        "msg_int = int.from_bytes(msg_encoded,'big')\n",
        "\n",
        "print('msg:', msg)\n",
        "print('msg_encoded:', msg_encoded)\n",
        "print('msg_int:', msg_int)\n",
        "print(type(msg_encoded))\n",
        "\n"
      ],
      "metadata": {
        "id": "S6PNoGhHCJxF"
      },
      "execution_count": null,
      "outputs": []
    },
    {
      "cell_type": "code",
      "source": [
        "x = 50\n",
        "xbytes = x.to_bytes(1,'big')\n",
        "print(xbytes)  # NOTE: '2' in ASCII is 00110010 in binary, which is 50 in base10\n",
        "print(\"\".join(\"{:02x}\".format(byte) for byte in xbytes))"
      ],
      "metadata": {
        "id": "cme75yTKnSKm"
      },
      "execution_count": null,
      "outputs": []
    },
    {
      "cell_type": "markdown",
      "source": [
        "**Question 1a:** Complete the code cell below which converts a str of your full name (swap your name in for mine) into a single integer and print it out in decimal from (use the encode and from_bytes functions).\n",
        "\n",
        "**Question 1b:** Print the integer out in hexadecimal. "
      ],
      "metadata": {
        "id": "A1HHr_hVhIob"
      }
    },
    {
      "cell_type": "code",
      "source": [
        "# QUESTION 1\n",
        "name_str = 'Taylan Sen' # replace with your name\n",
        "# TODO 1a: use encode and from_bytes as specified in the above section to \n",
        "# convert the name to a single integer\n",
        "\n",
        "# TODO 1b: Now print the above integer out in hexadecimal (base 16)"
      ],
      "metadata": {
        "id": "AcmtanIrlDwS"
      },
      "execution_count": null,
      "outputs": []
    },
    {
      "cell_type": "markdown",
      "source": [
        "<a name='characteristics'></a>\n",
        "<hr>\n",
        "\n",
        "## Desired Characteristics of Cryptographic Hash Functions (Secure Hash Algorithms)\n",
        "\n",
        "* security properties\n",
        "  * collision resistance\n",
        "  * first preimage resistance (aka one-way, hiding)\n",
        "  * second preimage resistance (aka puzzle-friendly) \n",
        "* deterministic\n",
        "* fast"
      ],
      "metadata": {
        "id": "O5UCqHqU6WpP"
      }
    },
    {
      "cell_type": "markdown",
      "source": [
        "### Collision Resistance\n",
        "\n",
        "**collision resistance:** a hash function is collision resistant if it is very hard to find any two inputs which produce the same output. By very hard, we typically mean ***computationally infeasible*** which generally means: given today's known hardware and mathematical capabilities, it would take conceivably unobtainable money or time in order to accomplish a given computational task. (Computationally infeasible is not equal to provably impossible.)\n",
        "\n",
        "    # Collision\n",
        "    Given: a hash function\n",
        "    Find: any two inputs which produce the same hash\n",
        "\n",
        "\n",
        "\n",
        "**one-way function:** (aka first preimage resistance or hiding property)given an output, its very hard to find a corresponding input. By very hard again we mean is *computationally infeasible* to find an input which produces a given output.\n",
        "\n",
        "    # first-preimage\n",
        "    Given: a hash function and a hash output out1\n",
        "    Find: any input which hashes to out1\n",
        "\n",
        "**second pre-image resistant:** given an input, it is very hard to find a second input which produces the same hash output.  \n",
        "\n",
        "    # second pre-image\n",
        "    Given: a hash function and a hash input in1\n",
        "    Find: a second input in2 which hashes to the same hash output as in1\n",
        "\n",
        "**birthday attack:** an attempt to find *any* collision using a brute force trial of inputs and memorizing the hash function outputs. In each step of a birthday attack, a new input is attempted, and its hash is then compared to all other hashes created so far to see if any match. The name comes from the following scenario: consider trying to find two people that have the same birthday (month and day of the month) in a lecture full of people (e.g. n=30). To many people it seems unlikely that two people out of 30 would have the same birthday. However, probabilistically, the chance that two or more people share a birthday out of 50 people is over 70%! This mis-estimation by most people is known as the *birthday paradox*.\n",
        "\n",
        "With 2 people, what is the probability they have the same birthday?\n",
        "$$P_{match} = 1 - P_{no \\space match} = 1 - \\frac{365}{366} = \\frac{1}{366} ≈ 0.0027$$\n",
        "\n",
        "With 3 people, what is the probability they have the same birthday?\n",
        "$$P_{match} = 1 - P_{no \\space match} = 1 - \\frac{365}{366}*\\frac{364}{366} ≈ 0.008$$\n",
        "\n",
        "With 4 people, what is the probability they have the same birthday?\n",
        "$$P_{match} = 1 - P_{no \\space match} = 1 - \\frac{365}{366}*\\frac{364}{366}*\\frac{363}{366} ≈ 0.016$$\n",
        "\n",
        "With N people, what is the probability they have the same birthday?\n",
        "$$P_{match} = 1 - P_{no \\space match} = 1 - \\frac{\\frac{366!}{(366-N)!}}{366^N}$$"
      ],
      "metadata": {
        "id": "hZuR8b_-qdlT"
      }
    },
    {
      "cell_type": "code",
      "source": [
        "# Birthday attack formula\n",
        "from math import factorial   # this is just to get access to the factorial func\n",
        "n = 30  # note, numerical overflow will occur for n > 120\n",
        "p = 1 - factorial(366)/factorial(366-n)/366**n\n",
        "print('probability of a collision with ' + str(n) + ' people:', p)"
      ],
      "metadata": {
        "colab": {
          "base_uri": "https://localhost:8080/"
        },
        "id": "hLbhXFsl0WjD",
        "outputId": "d613d8b5-0dfd-4d31-8719-c3c103db46e3"
      },
      "execution_count": null,
      "outputs": [
        {
          "output_type": "stream",
          "name": "stdout",
          "text": [
            "probability of a collision with 30 people: 0.7053034120089918\n"
          ]
        }
      ]
    },
    {
      "cell_type": "markdown",
      "source": [
        "## Checksum examples\n",
        "Let's now try to put my8bitHash to use as a checksum. Recall, our motivation is to detect errors or tampering in a message or file that is transmitted across a noisy or insecure communications channel. As seen in the example below, my8bitHash is not collision resistant at all since it is immesiately obvious how to find an input which hashes to he same value as your message; the hash value itself! One could create a new false message, such as simply replacing the message with a single character.\n"
      ],
      "metadata": {
        "id": "sdaf7e9sfpyO"
      }
    },
    {
      "cell_type": "code",
      "source": [
        "def my8bitHash(inputNum):\n",
        "  \"\"\"Divides by 256 and returns the remainder.\"\"\"\n",
        "  # in python % is called the mod operator\n",
        "  return inputNum % 256\n",
        "\n",
        "msg = 'Watson, come here!'\n",
        "msg_hash = my8bitHash(int.from_bytes(msg.encode(), 'big'))\n",
        "print('msg:', msg)\n",
        "print('msg_hash:', msg_hash)\n",
        "\n",
        "# Can we produce another message with same hash?\n",
        "# Just use the character that has the same ascii value as the hash\n",
        "msg = chr(33) \n",
        "msg_hash = my8bitHash(int.from_bytes(msg.encode(), 'big'))\n",
        "print('msg:', msg)\n",
        "print('msg_hash:', msg_hash)\n"
      ],
      "metadata": {
        "id": "hPqkT5H7dkHQ"
      },
      "execution_count": null,
      "outputs": []
    },
    {
      "cell_type": "markdown",
      "source": [
        "A big part of the problem is that the hash output space is too small. An output size of 8 bits only gives $2^8=256$ possible outputs. A computer can easily go through 256 attempts to find a different message that has the same hash. For example, suppose someone wants to change the message from \"Watson, come here!\" to \"Watson, you are an idiot! ! !\" They could keep adding more exclamation marks and/or spaces until the hash matches the hash of the original message.  \n",
        "\n",
        "Bitcoin makes use of a hash function with an output size of 256 bits."
      ],
      "metadata": {
        "id": "U8W18O4sGqbx"
      }
    },
    {
      "cell_type": "markdown",
      "source": [
        "**Question 2:** What is the size of the output space of a 256 bit hash function? (Use the code cell below to give answer as an integer.)"
      ],
      "metadata": {
        "id": "tgMq3WZtIbH5"
      }
    },
    {
      "cell_type": "code",
      "source": [],
      "metadata": {
        "id": "JGtCH3fKHQyf"
      },
      "execution_count": null,
      "outputs": []
    },
    {
      "cell_type": "markdown",
      "source": [
        "**Question 3:**  \n",
        "a) If we are able to evaluate a hash in a single CPU clock cycle (@4GHz) how many years would it take for us to expect to find a collision? (Use the code cell below to show your work for your answer.) \n",
        "\n",
        "b) How many times the lifetime of the universe is your answer? (use 14 billion years as the lifetime of the universe.)"
      ],
      "metadata": {
        "id": "EA0e_tHfHRW3"
      }
    },
    {
      "cell_type": "code",
      "source": [
        "# how big is 256bit space\n"
      ],
      "metadata": {
        "id": "2-NyuH1IJUcd"
      },
      "execution_count": null,
      "outputs": []
    },
    {
      "cell_type": "markdown",
      "source": [
        "### SHA256\n",
        "A widely used and trusted secure hash function is known as SHA256 (used heavily in the bitcoin protocol), which is part of *FIPS* specified by *NIST*. "
      ],
      "metadata": {
        "id": "RdKkGx5OH_g7"
      }
    },
    {
      "cell_type": "markdown",
      "source": [
        "**Question 4:** Please use Google to write a short one sentence definition of each below (double click to edit):  \n",
        "NIST:  \n",
        "FIPS:  \n",
        "SHA256:  "
      ],
      "metadata": {
        "id": "mn0bhXpKGz-1"
      }
    },
    {
      "cell_type": "markdown",
      "source": [
        "### hashlib\n",
        "Many secure hash functions have been implemented (somewhat efficiently) in python's **hashlib** module. Below is an example of how to use the module and its sha256 function.  \n",
        "\n",
        "*import* is used to \"pull in\" a *module* to add more functionality to base python.\n",
        "*sha256* is the name of the function, it expects the input to be bytes and returns output in a *hash* object.\n",
        "Use hash.hexdigest() to get the output written in hexadecimal.   "
      ],
      "metadata": {
        "id": "VAO16IjEJH7l"
      }
    },
    {
      "cell_type": "code",
      "execution_count": null,
      "metadata": {
        "id": "lgN5ylEyip_v"
      },
      "outputs": [],
      "source": [
        "# sha256\n",
        "import hashlib\n",
        "\n",
        "msg = 'Hello world!'\n",
        "hash = hashlib.sha256(msg.encode())\n",
        "print(hash.hexdigest())"
      ]
    },
    {
      "cell_type": "markdown",
      "source": [
        "**Question 5:** Use sha256 to get the hex digest of your full name in a new cell below."
      ],
      "metadata": {
        "id": "O_fIH3e0KGJC"
      }
    },
    {
      "cell_type": "markdown",
      "source": [
        "## Puzzle Friendliness\n",
        "Puzzle friendliness is a property that applies nicely as we will discuss to our original motivational problem of designing a computer system which verifies login passwords without storing the passwords itself.\n",
        "\n",
        "### Password Hashing\n",
        "Recall our original motivation problem example 3 from the first section: *we want a system in which users have a username and a password to login, but __the password must not be stored on the system__*. How can cryptographic hash functions help us out? The trick is to store the hash of the user's password on the system instead of the password itself. Each time a user tries to login, the login program will hash the password they type and compare it to the stored hash, and if it matches, access is granted. Because of the *one-way* property of the cryptographic hash function, someone can not easily find the password from the hash. Read through the source code below and try running it.\n",
        "\n",
        "<img src='https://www.azmemes.com/wp-content/uploads/2020/04/I-Changed-My-Password-To-Incorrect.jpg' width=\"300\">  \n"
      ],
      "metadata": {
        "id": "EfBKcPXsXDhP"
      }
    },
    {
      "cell_type": "code",
      "source": [
        "# STORING THE PASSWORD HASH ONLY\n",
        "import hashlib\n",
        "\n",
        "stored_hash = 'dcb5e79778425c09b1fb74d870807addfa80b2c25ce9b4029f9e7777777ae101'\n",
        "pass_input = input('Password: ')\n",
        "\n",
        "pass_hash = hashlib.sha256(pass_input.encode()).hexdigest()\n",
        "if pass_hash == stored_hash:\n",
        "  print('ACCESS GRANTED')\n",
        "else:\n",
        "  print('YOUR PASSWORD IS INCORRECT')"
      ],
      "metadata": {
        "id": "1JGEyns1ipNU"
      },
      "execution_count": null,
      "outputs": []
    },
    {
      "cell_type": "markdown",
      "source": [
        "In the example above we see that the actual password is not actually stored in the source code, only the hash is stored. Please think about this point deeply for a minute, it is a very important concept for blockchains and computing in general.\n",
        "![alt text](https://i.pinimg.com/originals/99/3f/a8/993fa82c035136e3be273e39f112558a.jpg \"An authentication system doesn't actually have to store passwords...\")\n",
        "\n"
      ],
      "metadata": {
        "id": "5T_2KMPilhkV"
      }
    },
    {
      "cell_type": "markdown",
      "source": [
        "\n",
        "### Password Salt\n",
        "\n",
        "While the above password hashing scheme was a reasonable approach on computer systems for a while, with the availablity of increasing compute power and storage, coupled with the fact that most people don't want to have a password that is *too long* and want to use easily memorizable words, it became possible to \"crack\" a password from the hash using something called ***rainbow tables***. In a nutshell, a rainbow table is a <u>precomputed</u> table of passwords and hashes. The idea being, an attacker can by brute force simply try every single password that is 8 letters long and store the resulting hash in a lookup table (i.e. dictionary). \n"
      ],
      "metadata": {
        "id": "3-AAdDiBip3U"
      }
    },
    {
      "cell_type": "markdown",
      "source": [
        "**Question: 6a** In the cell below, compute how many 8 letter passwords can be made from the 26 letters of the alphabet using only lowercase letters?  \n"
      ],
      "metadata": {
        "id": "IqbH-7qOH8I7"
      }
    },
    {
      "cell_type": "code",
      "source": [
        "# QUESTION: If a hacker creates a precomputed ranbow table of 8 letter \n",
        "# passwords using only lowercase with a 26 letter alphabet, how many\n",
        "# entries will it have?"
      ],
      "metadata": {
        "id": "cFrtEZX-t0Tu"
      },
      "execution_count": null,
      "outputs": []
    },
    {
      "cell_type": "markdown",
      "source": [
        "**Question: 6b** How hard do you think it is to store this much space?"
      ],
      "metadata": {
        "id": "9xUqexjUITry"
      }
    },
    {
      "cell_type": "markdown",
      "source": [
        "To prevent this style of attack, the concept of password ***salt*** was introduced. Before hashing a user's password, a random fixed length string gets concatenated to the user's password first. When storing the hash, the salt is also stored.  \n",
        "\n",
        "Read through the code below, then try running it."
      ],
      "metadata": {
        "id": "Bkp4QvHIuN7R"
      }
    },
    {
      "cell_type": "code",
      "source": [
        "# EXAMPLE PROGRAM USING RANDOM SALT\n",
        "import hashlib\n",
        "import random\n",
        "import string\n",
        "\n",
        "def store_new_user(salt_and_hash_dict):\n",
        "  \"\"\" This function will store a new user along with a randomly selected salt\n",
        "  and a hash of the salt concatenated with the password. The password is not\n",
        "  stored. \"\"\"\n",
        "  print('STORING A NEW USER')\n",
        "  username = input('Username: ')\n",
        "  password = input('Password: ')\n",
        "  salt = ''\n",
        "  for i in range(8):\n",
        "    salt += random.choice(string.ascii_letters)\n",
        "  salted_pass = salt + password\n",
        "  hash = hashlib.sha256(salted_pass.encode()).hexdigest()\n",
        "  print(' NEW USER HASH:', hash)\n",
        "  print(' NEW USER SALT:', salt)\n",
        "  salt_and_hash_dict[username] = (salt, hash)\n",
        "  print(' NEW USER:', username,'stored with above salt and hash.')\n",
        "\n",
        "def login(salt_and_hash_dict):\n",
        "  \"\"\" This function will prompt a user to login and test that their password\n",
        "  matches with the salt and password stored in salt_and_hash_dict. \"\"\"\n",
        "  print('LOGIN')\n",
        "  username = input('Username: ')\n",
        "  if username not in salt_and_hash_dict:\n",
        "    print('NO SUCH USER: ', username)\n",
        "  else:\n",
        "    password = input('Password: ')\n",
        "    salt, stored_hash = salt_and_hash_dict[username]\n",
        "    print('USER:' + username + ', stored SALT:'+ salt)\n",
        "    print('  stored HASH:  ', stored_hash)\n",
        "    salted_pass = salt + password\n",
        "    test_hash = hashlib.sha256(salted_pass.encode()).hexdigest()\n",
        "    print('  computed HASH:', test_hash)\n",
        "    \n",
        "    if test_hash == stored_hash:\n",
        "      print('ACCESS GRANTED')\n",
        "    else:\n",
        "      print('YOUR PASSWORD IS INCORRECT!')\n",
        "\n",
        "# Main Program\n",
        "salt_and_hash_dict = {}               # holds usernames with each salt and hash\n",
        "store_new_user(salt_and_hash_dict)    # call function to store a new user\n",
        "login(salt_and_hash_dict)             # call function to check provided pass"
      ],
      "metadata": {
        "id": "03DHWt3tui_n"
      },
      "execution_count": null,
      "outputs": []
    },
    {
      "cell_type": "markdown",
      "source": [
        "<img src=\"https://i.imgflip.com/1um7i.jpg\" width=\"300\">\n",
        "\n",
        "**Question 7a:** A hacker attempting to attack a salted password system (with a salt length of 20) wants to create a rainbow table. If the table is to hold an entry for every possible 8 letter password together with every possible salt, how many entries must it hold? Calculate answer in cell below."
      ],
      "metadata": {
        "id": "_HlAr4Vl3G-s"
      }
    },
    {
      "cell_type": "code",
      "source": [
        "# QUESTION: What is size of a rainbow table for an 8 letter password with\n",
        "# a 20 letter salt?"
      ],
      "metadata": {
        "id": "QeHf9vRWvaON"
      },
      "execution_count": null,
      "outputs": []
    },
    {
      "cell_type": "markdown",
      "source": [
        "Question 7b: Is the required rainbow table size reasonably achievable? (enter answer in this cell))"
      ],
      "metadata": {
        "id": "HGsNjbPEJENX"
      }
    },
    {
      "cell_type": "markdown",
      "source": [
        "<img src=\"https://c.tenor.com/I4VSWV0zOE0AAAAC/tenor.gif\" width=\"300\" title=\"Can't we use google sheets for rainbow tables?\">\n",
        "\n",
        "It is also important to note: in order for a salt to be useful as designed, it must be randomly selected and used only once. A **n**umber used only **once** in this cryptographic scheme is also called a ***nonce***.  \n",
        "\n",
        "### Proof of Work\n",
        "\n",
        "A fundamental concept in bitcoin and many other cryptocurrencies that is closely related to password hashing is the concept of ***Proof-of-Work***. In order to incentivize people to be bitcoin ***miners*** (i.e. those who run the bitcoin software on their machines), built into the bitcoin protocol is a reward for the person who can solve a computational puzzle fastest. This setup is particularly elegant, because the puzzle is also computing a hash of the recent bitcoin transactions that needs to be recorded (to become part of what is called the ***global ledger***. The analogy with salted password hashing is this:\n",
        "\n",
        "* The \"password\" that is being hashed is actually just the recent public transaction data. \n",
        "* The salt (or nonce) is a number picked by the miner.\n",
        "* The hash function used is our beloved SHA256.\n",
        "* The \"winner\" of the puzzle is the first person who can find a nonce that produces a hash that has 18 leading zeros.$^*$ \n",
        "\n",
        "In the code below, note how the nonce of 'k' causes the hash to begin with zero. Different nonces will make the hash begin with zero only 1/16 times. For example, when you replace the nonce below from 'k' to 'a', the hash begins with 1.\n"
      ],
      "metadata": {
        "id": "4txR2FxZMZMD"
      }
    },
    {
      "cell_type": "code",
      "source": [
        "import hashlib\n",
        "name = 'Taylan Sen'\n",
        "nonce = 'k'\n",
        "nonce_name = nonce + name\n",
        "hash = hashlib.sha256(nonce_name.encode()).hexdigest()\n",
        "print(hash)\n",
        "if(hash[0] == '0'):\n",
        "  print('CONGRATULATIONS! YOU FOUND A NONCE WHICH MAKES THE hash START WITH 0!')\n",
        "else:\n",
        "  print('TRY AGAIN.')\n",
        "  print('The nonce creates a hash that starts with:', hash[0],'instead of 0.')"
      ],
      "metadata": {
        "id": "9ozTj2KlLIxb"
      },
      "execution_count": null,
      "outputs": []
    },
    {
      "cell_type": "markdown",
      "source": [
        "**Question 8:** In the above code cell, replace name with your own name. Then, find a nonce which causes the hash to start with a '0'. When you are done, congratulate yourself, because you just completed a proof-of-work just like a human bitcoin miner! (For true bitcoin mining difficulty, find a nonce which makes the hash start with eighteen leading zeros!)"
      ],
      "metadata": {
        "id": "B7_05IFINZ8h"
      }
    },
    {
      "cell_type": "markdown",
      "source": [
        "For the above proof-of-work scheme to be secure from mathemagicians coming up with a more successful scheme of picking nonces that random chance, each nonce must have *an equal* chance of hashing into the different possible hashes in the hash function output space. This property is loosly defined as ***puzzle friendliness***.  \n",
        "\n",
        "In the next assignment, we will see how digital signatures are created using secure hash functions along with a new cryptography concept called ***public key crypotography***."
      ],
      "metadata": {
        "id": "toZHaBdlOQrB"
      }
    },
    {
      "cell_type": "markdown",
      "source": [
        "**Question 9:** For each of the following provide a short definition.\n",
        "\n",
        "**secure hash algorithm/cryptographic hash function:**  a hash function which has the properties of....\n",
        "\n",
        "**deterministic algorithm:**  \n",
        "\n",
        "**one-way function:**   \n",
        "\n",
        "**hash collision:**  \n",
        "\n",
        "**digest:**\n"
      ],
      "metadata": {
        "id": "gq4fYA3U_clR"
      }
    },
    {
      "cell_type": "markdown",
      "source": [
        "<img src=\"https://memeguy.com/photos/images/password-savers-are-really-convenient-but-351861.png\" width=\"300\">\n",
        "\n",
        "\n",
        "# Submission\n",
        "When working on the assignment, please make sure you save before loging out. When completely finished, please save (File->save) download the .ipynb file (File->download->.ipynb), and upload to canvas. "
      ],
      "metadata": {
        "id": "ZxL6yxNXOOAm"
      }
    }
  ]
}