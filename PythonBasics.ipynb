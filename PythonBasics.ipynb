{
  "nbformat": 4,
  "nbformat_minor": 0,
  "metadata": {
    "colab": {
      "provenance": [],
      "include_colab_link": true
    },
    "kernelspec": {
      "name": "python3",
      "display_name": "Python 3"
    },
    "language_info": {
      "name": "python"
    }
  },
  "cells": [
    {
      "cell_type": "markdown",
      "metadata": {
        "id": "view-in-github",
        "colab_type": "text"
      },
      "source": [
        "<a href=\"https://colab.research.google.com/github/taylan-sen/intro_jupyter_notebooks/blob/main/PythonBasics.ipynb\" target=\"_parent\"><img src=\"https://colab.research.google.com/assets/colab-badge.svg\" alt=\"Open In Colab\"/></a>"
      ]
    },
    {
      "cell_type": "code",
      "execution_count": null,
      "metadata": {
        "colab": {
          "base_uri": "https://localhost:8080/"
        },
        "id": "CUEUpDZY7l2A",
        "outputId": "d35fae70-9d9f-4713-ab92-c4ddc6fd3ffa"
      },
      "outputs": [
        {
          "output_type": "stream",
          "name": "stdout",
          "text": [
            "Hello World!\n"
          ]
        }
      ],
      "source": [
        "print('Hello World!')"
      ]
    },
    {
      "cell_type": "markdown",
      "source": [
        "### This Notebook Shows Python Basics\n",
        "\n",
        "This notebook is geared towards someone who already knows how to code in another language and wants a quick demo of how to do common things in python. If you have never coded before I strongly recommend you go through the online class at:\n",
        "\n",
        "https://w3schools.com/python\n",
        "\n",
        "<hr>\n",
        "\n",
        "**comments** : The hash symbol # can be used to create a comment in python, text which is ignored when running the program, but useful for documentation.  \n",
        "\n",
        "**Python Primitive Datatypes**\n",
        "* int\n",
        "* str\n",
        "* float\n",
        "* bool\n",
        "\n"
      ],
      "metadata": {
        "id": "t9If8bRM9On5"
      }
    },
    {
      "cell_type": "code",
      "source": [
        "x = 5           # int\n",
        "s = 'hello'     # str\n",
        "temp = 98.6     # float\n",
        "iAmSam = False  # bool\n",
        "y = '98.6'\n",
        "print(x + temp)\n"
      ],
      "metadata": {
        "id": "V4_Z3rv08Gw_",
        "outputId": "dd9bd5ec-786b-42bf-ee4d-c05fc3a0b09b",
        "colab": {
          "base_uri": "https://localhost:8080/"
        }
      },
      "execution_count": null,
      "outputs": [
        {
          "output_type": "stream",
          "name": "stdout",
          "text": [
            "103.6\n"
          ]
        }
      ]
    },
    {
      "cell_type": "markdown",
      "source": [
        "\n",
        "A unique feature of python int and float is that they do not have a static number of bits (size) and can support VERY LARGE and small numbers!"
      ],
      "metadata": {
        "id": "Tp0b-VRFG0Bs"
      }
    },
    {
      "cell_type": "code",
      "source": [
        "# note that exponentiaion is accomplished with **, not ^\n",
        "my_int = 100 ** 100    # THIS WOULD OVERFLOW MANY PROGRAMMING LANGUAGES\n",
        "print(my_int)"
      ],
      "metadata": {
        "colab": {
          "base_uri": "https://localhost:8080/"
        },
        "id": "rX5Fz-TpG2Go",
        "outputId": "8a255e25-5b35-4514-c65e-8decd1fd6830"
      },
      "execution_count": 3,
      "outputs": [
        {
          "output_type": "stream",
          "name": "stdout",
          "text": [
            "100000000000000000000000000000000000000000000000000000000000000000000000000000000000000000000000000000000000000000000000000000000000000000000000000000000000000000000000000000000000000000000000000000000\n"
          ]
        }
      ]
    },
    {
      "cell_type": "markdown",
      "source": [
        "\n",
        "**Python Collection Types**\n",
        "* list - ordered, indexed, ***like*** an array, mutable\n",
        "* tuple - immutable list\n",
        "* dict - a hashtable, a set of (key,value) data pairs\n"
      ],
      "metadata": {
        "id": "mFNUx5_c_WDU"
      }
    },
    {
      "cell_type": "code",
      "source": [
        "my_list = ['I', 'love', 'CIS']\n",
        "my_list[2] = 'Finance'            # overwrite an indexed location\n",
        "print(my_list[2])                 # access a list location by index\n",
        "\n",
        "# in a list different elements can be different types\n",
        "my_list2 = [3, 'hello', 'frogs', 4.3, True]\n",
        "\n",
        "my_tuple = ('Purple', 'Eagles')\n",
        "# my_tuple[1] = 'Green' # ERROR - a tuple can't be changed like a list\n",
        "\n",
        "# initialize a dict   {key:value}\n",
        "example_dict = {'triangle':3, 'square':4, 'septagon':7}\n",
        "example_dict['decagon'] = 10   # insert a new key, value pair\n",
        "print(example_dict['septagon'])"
      ],
      "metadata": {
        "id": "zbqwAY2I_XvL"
      },
      "execution_count": null,
      "outputs": []
    },
    {
      "cell_type": "markdown",
      "source": [
        "### Python Class\n",
        "\n",
        "Python supports ***object oriented*** programming. Variables and functions supporting a common subtask of a program can be grouped into a **class**.  \n",
        "\n",
        "* **attribute** : a variable which is *within* a class.\n",
        "* **member** : a function which is *within* a class."
      ],
      "metadata": {
        "id": "Ou-Fi7EJEUp9"
      }
    }
  ]
}