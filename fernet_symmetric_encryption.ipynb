{
  "nbformat": 4,
  "nbformat_minor": 0,
  "metadata": {
    "colab": {
      "provenance": [],
      "authorship_tag": "ABX9TyNSBByQzeWf1vg9G6bUj2An",
      "include_colab_link": true
    },
    "kernelspec": {
      "name": "python3",
      "display_name": "Python 3"
    },
    "language_info": {
      "name": "python"
    }
  },
  "cells": [
    {
      "cell_type": "markdown",
      "metadata": {
        "id": "view-in-github",
        "colab_type": "text"
      },
      "source": [
        "<a href=\"https://colab.research.google.com/github/taylan-sen/intro_jupyter_notebooks/blob/main/fernet_symmetric_encryption.ipynb\" target=\"_parent\"><img src=\"https://colab.research.google.com/assets/colab-badge.svg\" alt=\"Open In Colab\"/></a>"
      ]
    },
    {
      "cell_type": "markdown",
      "source": [
        "### The python **cryptography** package:  \n",
        "\n",
        "\n",
        "The cryptography package is a robust, well-documented library for cryptographic operations in Python. It provides various cryptographic recipes and primitives to implement secure encryption, decryption, hashing, and more.\n",
        "\n",
        "Key Features:\n",
        "\n",
        "* Symmetric Encryption: AES, ChaCha20, Fernet, etc.\n",
        "* Asymmetric Encryption: RSA, DSA, Elliptic Curve Cryptography.\n",
        "*  Key Derivation: PBKDF2, Scrypt, HKDF.\n",
        "* Message Authentication: HMAC.\n",
        "* Digital Signatures: RSA, DSA, ECDSA.\n",
        "* Hashing Algorithms: SHA-256, SHA-512, BLAKE2.\n",
        "* Certificate Management: X.509 certificates, TLS/SSL.  \n",
        "\n",
        "<hr>\n",
        "\n",
        "### python organization\n",
        "\n",
        "* A python **class** is a combination of functions and variables into a unit (for following the *object oriented* coding paradigm).  \n",
        "\n",
        "* A python **module** is a python file that can be *imported* to provide additional functions, classes, constants, or variables.\n",
        "\n",
        "* A python **package** is a directory containing python modules along with any necessary initialization code.\n",
        "\n",
        "* Classes, modules, and packages help organize code into meaningful reusable units.\n",
        "\n",
        "<hr>\n",
        "\n",
        "In the **cryptography** package, there are two moduels:  \n",
        " * cryptography.fernet: Module for symmetric encryption.\n",
        " * cryptography.hazmat: Module for low-level cryptographic primitives.\n",
        "\n",
        "\n"
      ],
      "metadata": {
        "id": "i9nJElIkcrIk"
      }
    },
    {
      "cell_type": "markdown",
      "source": [
        "### **Fernet**\n",
        "![](FernetImage.jpg)\n",
        "Within the cryptography.fernet module is the **Fernet** class which provides a relatively simple-to-use symmetric encryption scheme.\n",
        "\n",
        "\n",
        "* **encryption**\n",
        "* **decryption**\n",
        "* **plaintext**\n",
        "* **ciphertext**\n",
        "* **key**  \n",
        "* **symmetric encryption** -encryption and decryption which uses the same key to encrypt and decrypt.\n",
        "\n",
        "\n",
        "\n",
        "\n",
        "\n",
        "<h2>Confidentiality, Integrity, and Authentication</h2>\n",
        "\n",
        "\n",
        "<table>\n",
        "    <thead>\n",
        "        <tr>\n",
        "            <th>Aspect</th>\n",
        "            <th>Definition</th>\n",
        "            <th>Objective</th>\n",
        "            <th>Example Techniques</th>\n",
        "        </tr>\n",
        "    </thead>\n",
        "    <tbody>\n",
        "        <tr>\n",
        "            <td>Confidentiality</td>\n",
        "            <td>Protects data from unauthorized access or disclosure.</td>\n",
        "            <td>Ensures data privacy.</td>\n",
        "            <td>Encryption (AES, RSA), Access Controls</td>\n",
        "        </tr>\n",
        "        <tr>\n",
        "            <td>Integrity</td>\n",
        "            <td>Ensures data is not altered or tampered with.</td>\n",
        "            <td>Ensures data accuracy.</td>\n",
        "            <td>Hashing (SHA-256), HMAC, Digital Signatures</td>\n",
        "        </tr>\n",
        "        <tr>\n",
        "            <td>Authentication</td>\n",
        "            <td>Verifies the identity of a user, system, or data source.</td>\n",
        "            <td>Ensures data origin.</td>\n",
        "            <td>Passwords, Public/Private Keys, Certificates</td>\n",
        "        </tr>\n",
        "    </tbody>\n",
        "</table>\n",
        "\n",
        "\n",
        "Fernet uses:\n",
        "* Confidentiality: AES-128 encryption\n",
        "* Integrity: HMAC-SHA256\n",
        "* Authentication: HMAC with a secret key"
      ],
      "metadata": {
        "id": "mXPqnci1x1Zp"
      }
    },
    {
      "cell_type": "code",
      "source": [
        "# GENERATE KEY AND ENCRYPT\n",
        "\n",
        "from cryptography.fernet import Fernet\n",
        "\n",
        "key = Fernet.generate_key()\n",
        "fernet = Fernet(key)\n",
        "print(f'Key:  {key}')\n",
        "msg = 'I like chicken'\n",
        "encrypted = fernet.encrypt(msg.encode())\n",
        "\n",
        "print(f'Encrypted: {encrypted}')\n"
      ],
      "metadata": {
        "colab": {
          "base_uri": "https://localhost:8080/"
        },
        "id": "fCrsRUPSIOkw",
        "outputId": "60c0116d-109a-4962-f5b4-02b6e04c363d"
      },
      "execution_count": 23,
      "outputs": [
        {
          "output_type": "stream",
          "name": "stdout",
          "text": [
            "Key:  b'sYx-yIoC0l6eAm9fzFLC4VPioIWx8f0QiAVltUbexrQ='\n",
            "Encrypted: b'gAAAAABoKhhKB6ELTGD9TSx6B9jdazVviHVXfZ-cXDNlY5AsMWULBxnBflqB2LRnH3Bqw3l_WkGhCvbUWWnTNCznlTc3jn1qCg=='\n"
          ]
        }
      ]
    },
    {
      "cell_type": "code",
      "source": [
        "# DECRYPT (AFTER LOADING KEY AND CIPHERTEXT)\n",
        "key = b'sYx-yIoC0l6eAm9fzFLC4VPioIWx8f0QiAVltUbexrQ='\n",
        "encrypted = b'gAAAAABoKhhKB6ELTGD9TSx6B9jdazVviHVXfZ-cXDNlY5AsMWULBxnBflqB2LRnH3Bqw3l_WkGhCvbUWWnTNCznlTc3jn1qCg=='\n",
        "\n",
        "fernet = Fernet(key)\n",
        "decrypted = fernet.decrypt(encrypted).decode()\n",
        "print(f'Decrypted: {decrypted}')\n"
      ],
      "metadata": {
        "colab": {
          "base_uri": "https://localhost:8080/"
        },
        "id": "yD8n_Akda9T-",
        "outputId": "18766e9e-96e8-4109-c83b-7c302c314960"
      },
      "execution_count": 24,
      "outputs": [
        {
          "output_type": "stream",
          "name": "stdout",
          "text": [
            "Decrypted: I like chicken\n"
          ]
        }
      ]
    },
    {
      "cell_type": "code",
      "execution_count": 14,
      "metadata": {
        "colab": {
          "base_uri": "https://localhost:8080/"
        },
        "id": "t77I1lzjHXPn",
        "outputId": "4397be62-f7e5-4f80-d47a-e6399a5b6ab4"
      },
      "outputs": [
        {
          "output_type": "stream",
          "name": "stdout",
          "text": [
            "b'gAAAAABoKharjidDBQyIRTZUXnnz0xPv6rYGM1ZZkoVuuBc16f47zIPbheSXJXptnDa9Rhiz9kDDNpAhPhtdTZ3Zdd_Zmp0DPw=='\n",
            "I like chicken\n"
          ]
        }
      ],
      "source": [
        "from cryptography.fernet import Fernet\n",
        "from hashlib import sha256\n",
        "from base64 import urlsafe_b64encode\n",
        "\n",
        "\n",
        "password = 'Hello world'\n",
        "salt = 'Lox is salty'\n",
        "key = sha256((password + salt).encode()).digest()\n",
        "#key = hashlib.pbkdf2_hmac('sha256', password.encode(), salt, 100000)\n",
        "url_safe_key = urlsafe_b64encode(key)\n",
        "fernet = Fernet(url_safe_key)\n",
        "msg = 'I like chicken'\n",
        "encrypted = fernet.encrypt(msg.encode())\n",
        "decrypted = fernet.decrypt(encrypted).decode()\n",
        "\n",
        "print(encrypted)\n",
        "print(decrypted)"
      ]
    }
  ]
}