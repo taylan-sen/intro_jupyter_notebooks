{
  "nbformat": 4,
  "nbformat_minor": 0,
  "metadata": {
    "colab": {
      "provenance": [],
      "authorship_tag": "ABX9TyM3jCg2553PK/gaHZYqKz1S",
      "include_colab_link": true
    },
    "kernelspec": {
      "name": "python3",
      "display_name": "Python 3"
    },
    "language_info": {
      "name": "python"
    }
  },
  "cells": [
    {
      "cell_type": "markdown",
      "metadata": {
        "id": "view-in-github",
        "colab_type": "text"
      },
      "source": [
        "<a href=\"https://colab.research.google.com/github/taylan-sen/intro_jupyter_notebooks/blob/main/fernet_symmetric_encryption.ipynb\" target=\"_parent\"><img src=\"https://colab.research.google.com/assets/colab-badge.svg\" alt=\"Open In Colab\"/></a>"
      ]
    },
    {
      "cell_type": "markdown",
      "source": [
        "This notebook provides a summary of how to use\n"
      ],
      "metadata": {
        "id": "kX_ybOoh0Bap"
      }
    },
    {
      "cell_type": "markdown",
      "source": [
        "### The python **cryptography** package:  \n",
        "\n",
        "\n",
        "The cryptography package is a robust, well-documented library for cryptographic operations in Python. It provides various cryptographic recipes and primitives to implement secure encryption, decryption, hashing, and more.\n",
        "\n",
        "Key Features:\n",
        "\n",
        "* Symmetric Encryption: AES, ChaCha20, Fernet, etc.\n",
        "* Asymmetric Encryption: RSA, DSA, Elliptic Curve Cryptography.\n",
        "*  Key Derivation: PBKDF2, Scrypt, HKDF.\n",
        "* Message Authentication: HMAC.\n",
        "* Digital Signatures: RSA, DSA, ECDSA.\n",
        "* Hashing Algorithms: SHA-256, SHA-512, BLAKE2.\n",
        "* Certificate Management: X.509 certificates, TLS/SSL.  \n",
        "\n",
        "<hr>\n",
        "\n",
        "### python organization\n",
        "\n",
        "* A python **class** is a combination of functions and variables into a unit (for following the *object oriented* coding paradigm).  \n",
        "\n",
        "* A python **module** is a python file that can be *imported* to provide additional functions, classes, constants, or variables.\n",
        "\n",
        "* A python **package** is a directory containing python modules along with any necessary initialization code.\n",
        "\n",
        "* Classes, modules, and packages help organize code into meaningful reusable units.\n",
        "\n",
        "<hr>\n",
        "\n",
        "In the **cryptography** package, there are two moduels:  \n",
        " * cryptography.fernet: Module for symmetric encryption.\n",
        " * cryptography.hazmat: Module for low-level cryptographic primitives.\n",
        "\n",
        "\n"
      ],
      "metadata": {
        "id": "i9nJElIkcrIk"
      }
    },
    {
      "cell_type": "markdown",
      "source": [
        "### **Fernet**\n",
        "<img src=\"FernetImage.jpg\" width=\"300px\">.\n",
        "\n",
        "Within the cryptography.fernet module is the **Fernet** class which provides a relatively simple-to-use symmetric encryption scheme.\n",
        "\n",
        "* **Encryption**: The process of converting a message (plaintext) into an unreadable code (ciphertext) using an algorithm and a key to protect the data from unauthorized access.\n",
        "\n",
        "* **Decryption**: The process of converting ciphertext back into plaintext using a key, allowing the original data to be read.\n",
        "\n",
        "* **Plaintext**: The original, readable data or message before it is encrypted.\n",
        "\n",
        "* **Ciphertext**: The encrypted form of data that is not readable without decryption.\n",
        "\n",
        "* **Key**: A piece of information used in cryptographic algorithms to perform encryption and decryption, ensuring data security; a password used to encrypt data can be refered to as a key.\n",
        "\n",
        "* **Symmetric encryption** - a method of encryption and decryption in which the same key is usd to encrypt and decrypt (contrast with asymmetric encryption, such as public-private key encryption, which uses a different key to encrypt and decrypt).\n",
        "\n",
        "\n",
        "<img src=\"https://www.inviul.com/wp-content/uploads/2016/11/Cryptosytem.gif\" width=\"500px\">\n",
        "\n",
        "\n",
        "<h2>Confidentiality, Integrity, and Authentication</h2>\n",
        "\n",
        "\n",
        "<table>\n",
        "    <thead>\n",
        "        <tr>\n",
        "            <th>Aspect</th>\n",
        "            <th>Definition</th>\n",
        "            <th>Objective</th>\n",
        "            <th>Example Techniques</th>\n",
        "        </tr>\n",
        "    </thead>\n",
        "    <tbody>\n",
        "        <tr>\n",
        "            <td>Confidentiality</td>\n",
        "            <td>Protects data from unauthorized access or disclosure.</td>\n",
        "            <td>Ensures data privacy.</td>\n",
        "            <td>Encryption (AES, RSA), Access Controls</td>\n",
        "        </tr>\n",
        "        <tr>\n",
        "            <td>Integrity</td>\n",
        "            <td>Ensures data is not altered or tampered with.</td>\n",
        "            <td>Ensures data accuracy.</td>\n",
        "            <td>Hashing (SHA-256), HMAC, Digital Signatures</td>\n",
        "        </tr>\n",
        "        <tr>\n",
        "            <td>Authentication</td>\n",
        "            <td>Verifies the identity of a user, system, or data source.</td>\n",
        "            <td>Ensures data origin.</td>\n",
        "            <td>Passwords, Public/Private Keys, Certificates</td>\n",
        "        </tr>\n",
        "    </tbody>\n",
        "</table>\n",
        "\n",
        "<br>\n",
        "<br>\n",
        "\n",
        "Fernet uses:\n",
        "* Confidentiality:\n",
        "  * AES-128 encryption - this encryption algorithm is generally viewed as being good enough, giving a reasonable tradeoff in terms of speed and strength.\n",
        "* Integrity:\n",
        "  * HMAC-SHA256 -\n",
        "    * Hash-Based Message Authentication Code\n",
        "    * SHA256 - Secure Hash Algorithm 256 bit\n",
        "* Authentication: HMAC with a secret key"
      ],
      "metadata": {
        "id": "mXPqnci1x1Zp"
      }
    },
    {
      "cell_type": "markdown",
      "source": [
        "## Fernet Code\n",
        "\n",
        "The Fernet class is where most of the symmetric encryption functionality you will typical use is located. You must first import this class using:\n",
        "\n",
        "\n",
        "    from cryptography.fernet import Fernet\n",
        "\n",
        "\n",
        "### Using a generated key\n",
        "\n",
        "Fernet can be used to generate the keys used to encrypt and decrypt data. The Fernet key format is 44 characters long, which is 32 bytes, which is 256 bits.  \n",
        "\n",
        "\n",
        "example fernet key (the leading b causes the data type to be bytes):\n",
        "\n",
        "    b'Gxw1V_huXqG6e8w24GzVxIxDt3ZUlCIIIhlj9MTlA_M='\n",
        "\n",
        "The function to generate a key is a static method (i.e. a function defined in a class that does not require an instance of the class to be called, and is associated with the class, not the instances).\n",
        "\n",
        "    new_key = Fernet.generate_key()\n",
        "\n",
        "### Encryption and Decryption\n",
        "\n",
        "In order to encrypt and decrypt, a Fernet object needs to be instantiated with the key. From this object the encrypt() and decrypt() methods can then be called.\n",
        "\n",
        "    my_key = b'Gxw1V_huXqG6e8w24GzVxIxDt3ZUlCIIIhlj9MTlA_M='\n",
        "    fernet_object = Fernet(my_key)\n",
        "    plain_text = 'Hello world!\"\n",
        "    cipher_text = fernet_object.encrypt(plain_test.encode())\n",
        "    decrypted_text = fernet_object.decrypt().decode()\n",
        "\n",
        "\n",
        "Note that python strings must be converted to bytes before encrypting. This can be done as shown above with the string method **encode()**. Similarly, bytes can be converted to str using **decode()**.  \n",
        "\n",
        "The code cells below provide complete working examples."
      ],
      "metadata": {
        "id": "lAhrVjFrPDXR"
      }
    },
    {
      "cell_type": "code",
      "source": [
        "# GENERATE KEY AND ENCRYPT\n",
        "\n",
        "from cryptography.fernet import Fernet\n",
        "\n",
        "key = Fernet.generate_key()\n",
        "fernet_object = Fernet(key)\n",
        "print(f'Key:  {key}')\n",
        "plain_text = 'I like chicken'\n",
        "cipher_text = fernet_object.encrypt(plain_text.encode())\n",
        "\n",
        "print(f'Encrypted: {cipher_text}')\n"
      ],
      "metadata": {
        "colab": {
          "base_uri": "https://localhost:8080/"
        },
        "id": "fCrsRUPSIOkw",
        "outputId": "afdcb36a-53ce-4560-e111-4691e955ffea"
      },
      "execution_count": null,
      "outputs": [
        {
          "output_type": "stream",
          "name": "stdout",
          "text": [
            "Key:  b'dV6wm0_WCHxcceRSLgqt7G1VfZblYaTbQ3-03lNkT9c='\n",
            "Encrypted: b'gAAAAABoK1bsFW1IT0JtkGKniAQJ7JL9pjhL4A6R0WfGKqVs5oZCbAjF5zlDGbyH3nU4fExfy2Fl-0COV6kDwmXY-cLc1nDPcg=='\n"
          ]
        }
      ]
    },
    {
      "cell_type": "code",
      "source": [
        "# DECRYPT (AFTER LOADING KEY AND CIPHERTEXT)\n",
        "key = b'sYx-yIoC0l6eAm9fzFLC4VPioIWx8f0QiAVltUbexrQ='\n",
        "cipher_text = b'gAAAAABoKhhKB6ELTGD9TSx6B9jdazVviHVXfZ-cXDNlY5AsMWULBxnBflqB2LRnH3Bqw3l_WkGhCvbUWWnTNCznlTc3jn1qCg=='\n",
        "\n",
        "fernet = Fernet(key)\n",
        "plain_text2 = fernet.decrypt(cipher_text).decode()\n",
        "print(f'Decrypted: {plain_text2}')\n"
      ],
      "metadata": {
        "colab": {
          "base_uri": "https://localhost:8080/"
        },
        "id": "yD8n_Akda9T-",
        "outputId": "761b447e-a3d4-4e2c-93ff-791a290da9a9"
      },
      "execution_count": null,
      "outputs": [
        {
          "output_type": "stream",
          "name": "stdout",
          "text": [
            "Decrypted: I like chicken\n"
          ]
        }
      ]
    },
    {
      "cell_type": "markdown",
      "source": [
        "### **Using a short password** - Password-Based Key Derivation Function 2 (PBKDF2) using Hash-based Message Authentication Code (HMAC)\n",
        "\n",
        "A fernet key, with its 44 character length (256 bits), is typically too hard for most people to memorize, and is even a chore to manually write down or type. Fernet itself does not directly support transforming a short password into a 44-character key. However, the python **hashlib** module provides the pbkdf2_hmac method of transforming a short password into a secure 44 character (256 bit) key. This method takes special steps to protect from a cryptoraphic vulnerability associated with short passwords known as a **precomputation attack** (aka rainbow table attack).  \n",
        "\n",
        "In summary, the hashlib module's pbkdf2_hmac() function uses a one-way function (e.g. a \"secure hash function\" such as SHA256) to produce a 256 bit key from a short phrase. The short phrase is concatenated with a short random phrase (**salt**), and then passed through the hashfunction multiple iterations.  \n",
        "\n",
        "Fernet also requires that the key be \"URL-safe\", meaning it should only consist of characters which can safely be included in URL query parameters (e.g. no + or /).  The code below uses the python base64 module's urlsafe_b64encode function to make the key from pbkdf2_hmac() URL-safe.\n"
      ],
      "metadata": {
        "id": "uENtSJtgTFg8"
      }
    },
    {
      "cell_type": "code",
      "execution_count": 2,
      "metadata": {
        "colab": {
          "base_uri": "https://localhost:8080/"
        },
        "id": "t77I1lzjHXPn",
        "outputId": "6a2ae783-df7c-42da-84e6-16e4c5258733"
      },
      "outputs": [
        {
          "output_type": "stream",
          "name": "stdout",
          "text": [
            "b'gAAAAABoK6lz2HyPiC_13mYuJazRooCfoRgiA17LP4xnJ8dM_iJg_WvvS3fKauaeMINpEPEnNVVK9x1F0TRLdxDrV3Kbk3X-yg=='\n",
            "I like chicken\n"
          ]
        }
      ],
      "source": [
        "from cryptography.fernet import Fernet\n",
        "from hashlib import pbkdf2_hmac\n",
        "from base64 import urlsafe_b64encode\n",
        "\n",
        "\n",
        "password = 'Hello world'\n",
        "salt = 'palssjrrkwasdfaEKalWds'  # the salt should be randomly generated\n",
        "key = pbkdf2_hmac('sha256', password.encode(), salt.encode(), 100000)\n",
        "url_safe_key = urlsafe_b64encode(key)\n",
        "fernet = Fernet(url_safe_key)\n",
        "msg = 'I like chicken'\n",
        "encrypted = fernet.encrypt(msg.encode())\n",
        "decrypted = fernet.decrypt(encrypted).decode()\n",
        "\n",
        "print(encrypted)\n",
        "print(decrypted)"
      ]
    }
  ]
}