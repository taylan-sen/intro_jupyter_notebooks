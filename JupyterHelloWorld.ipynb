{
  "nbformat": 4,
  "nbformat_minor": 0,
  "metadata": {
    "colab": {
      "provenance": [],
      "include_colab_link": true
    },
    "kernelspec": {
      "name": "python3",
      "display_name": "Python 3"
    },
    "language_info": {
      "name": "python"
    }
  },
  "cells": [
    {
      "cell_type": "markdown",
      "metadata": {
        "id": "view-in-github",
        "colab_type": "text"
      },
      "source": [
        "<a href=\"https://colab.research.google.com/github/taylan-sen/intro_jupyter_notebooks/blob/main/JupyterHelloWorld.ipynb\" target=\"_parent\"><img src=\"https://colab.research.google.com/assets/colab-badge.svg\" alt=\"Open In Colab\"/></a>"
      ]
    },
    {
      "cell_type": "markdown",
      "source": [
        "This notebook will introduce you to the jupyter/colab environment.\n",
        "* [jupyter](#jupyter)\n",
        "* [markdown](#markdown)\n",
        "* [python](#python)\n",
        "\n",
        "<hr>\n"
      ],
      "metadata": {
        "id": "wUXbBMrAAaYy"
      }
    },
    {
      "cell_type": "markdown",
      "source": [
        "<a name=\"jupyter\"></a>\n",
        "## Jupyter notebooks\n",
        "\n",
        "**jupyter (jupyter notebook)** is the name of a program that allows you to display/edit/run interactive python notebooks (aka ***ipython notebooks***, i.e. files with the .ipynb extension), using your web browswer. Google provides a free jupyter tool/service they call **Google Colab** (see [colab.research.google.com](https://colab.research.google.com))  \n",
        "\n",
        "The big advantage of jupyter notebooks (hereinafter we will just call them \"notebooks\") are that you can combine:\n",
        "1. formatted text (documentation) \n",
        "1. python source code, and\n",
        "1. python program output \n",
        "\n",
        "This is particularly useful for sharing your progaming work with others; the formatted documentation is nicer than just using code comments and doesn't require you to provide formatted documentation as a separate file, someone can easily modify and run the code themselves, and those that just want to see the results don't have to run the code (since the results of a run can be saved right in the notebook). Note that if you are developing a large python program, you should probably use an [IDE](# \"interactive development environment\") rather than jupyter.\n",
        "\n",
        "Notebooks are made up of a sequence of vertically stacked ***cells***. Cells can be either **text cells** or **code cells**.  \n",
        "\n",
        "### text cells\n",
        "In text cells you can write raw text (text without formatting), or \"marked up\" text (which includes special characters, codes, or keywords to allow you to format text and include links, tables, or figures). The most common ***markup language*** you are probably familar with is ***hyper text markup language***, more commonly known as ***HTML***. While notebooks support some HTML, a limitation of HTML is that it is often difficult to read HTML source when not ***rendered*** in a web browswer. The markup language called ***markdown*** was developed to make a language that provides basic formatting ability, while also keeping the source code easily readable. The [**markdown**](#markdown) section below shows some of the basics.  \n",
        "\n",
        "###code cells\n",
        "Code cells should contain valid python code which can be ***run*** by clicking the play button. When running a code cell, jupyter starts up a ***python kernel*** (a separate computer process for running python) which is used to run the code and provide the output which is appended below the code cell. To edit a code cell, you just click on it and start editing. To run a code cell, either click the play button, or press shift-enter.\n",
        "\n",
        "**autosave:** Note that while most jupyter variants implement autosave, you should get into the habit of saving the notebook everytime you make significant progress (which is usually acheived with menu:File->Save or ctrl-s).  \n",
        "\n",
        "**viewer vs. jupyter:** It is sometimes confusing to have an ipython notebook open in your web browser which you cannot edit. For example, [github.com](https://github.com) allows you to view .ipynb files with nice rendering (i.e. the markdown text is nicely formatted and the code cell output is nicely viewable), but it does not link to a python kernel and thus does not let you edit or run cells. Note that you can open and edit an .ipynb file with a simple text editor (such as notepad, textedit, or nano). However, the text cells will not be rendered (you will see the pure text rather than pretty formatting). You will be able to see and edit the code cells. There will also be some weird looking *metadata* and any graphical output will look like gibberish. In summary, stick to jupyter or colab when editing notebooks.\n",
        "\n",
        "### example cells\n",
        "Below is an example text cell followed by an example code cell. Try to edit them."
      ],
      "metadata": {
        "id": "Ra2ilYp4L6C6"
      }
    },
    {
      "cell_type": "markdown",
      "source": [
        "I am a **text cell**! Double click on me to edit me. Then click off of me to let me render."
      ],
      "metadata": {
        "id": "R9mVvMp8vjAC"
      }
    },
    {
      "cell_type": "code",
      "execution_count": null,
      "metadata": {
        "colab": {
          "base_uri": "https://localhost:8080/"
        },
        "id": "PJjUC-UTLayL",
        "outputId": "75defa5c-e429-4012-b17e-4442c9cc6e01"
      },
      "outputs": [
        {
          "output_type": "stream",
          "name": "stdout",
          "text": [
            "Hello World!\n"
          ]
        }
      ],
      "source": [
        "# I am a code cell! Click to play to run me!\n",
        "print('Hello World!')"
      ]
    },
    {
      "cell_type": "markdown",
      "source": [
        "<hr>\n",
        "\n",
        "<a name=\"Markdown\"></a>\n",
        "## markdown\n",
        "This cell is a text cell. If you are viewing this notebook in jupyter (or google colab), you can double click this cell in order to edit it. Below are some examples of markdown sytax.\n",
        "\n",
        "\n",
        "    ## Heading 2\n",
        "    ### Heading 3\n",
        "    **bold**\n",
        "    *italic*\n",
        "    ***bold and italic***\n",
        "    [link text](https://niagara.edu)\n",
        "    <!-- This is how you comment --> \n",
        "    \n",
        "## Heading 2\n",
        "### Heading 3\n",
        "**bold**\n",
        "*italic*\n",
        "***bold and italic***\n",
        "[link text](https://niagara.edu)\n",
        "<!-- This is how you comment --> \n",
        "\n",
        "Note that having a newline in markdown does not automatically produce a newline in the rendered output. End a line with two spaces if you when you want to insert a newline.\n",
        "\n",
        "You can typically use many HTML primitives as well:\n",
        "\n",
        "    <h4>html way to do heading 4</h4>\n",
        "    <b>html way to do bold</b>\n",
        "    <font size=\"22\" color='red'>bar</font>\n",
        "    <img src=\"https://bitcoin.org/img/icons/logotop.svg\" width=\"200\">\n",
        "\n",
        "<h4>html way to do heading 4</h4>\n",
        "<b>html way to do bold</b>\n",
        "<font size=\"22\" color='red'>Big Red!</font>\n",
        "<br>\n",
        "<img src=\"https://bitcoin.org/img/icons/logotop.svg\" width=\"200\">  \n",
        "\n",
        "\n",
        "\n"
      ],
      "metadata": {
        "id": "ir6Ln-rFBiFh"
      }
    },
    {
      "cell_type": "markdown",
      "source": [
        "You can also incorporate *latex* mathematical formulas:  \n",
        "\n",
        "    $$\\int_0^{2\\pi}$$\n",
        "\n",
        "$$\\int_0^{2\\pi}sin(x)dx = 0$$"
      ],
      "metadata": {
        "id": "QQpnjDpk11Cq"
      }
    },
    {
      "cell_type": "markdown",
      "source": [
        "<hr>\n",
        "\n",
        "<a name='python'></a>\n",
        "## Python\n",
        "\n",
        "Python is a popular programming language that is known for its simple and easily understandable syntax, as well as for its slow performance. If you have not had a course in python, I highly recommend you do the python tutorial at [w3schools](https://www.w3schools.com/python/). Just to get you started, below is an example of the bare minimum python basics you will need."
      ],
      "metadata": {
        "id": "A-mlr8a9BiiH"
      }
    },
    {
      "cell_type": "code",
      "source": [
        "# Comments start with the hash symbol.\n",
        "print('hello world') # comments can also appear inline"
      ],
      "metadata": {
        "colab": {
          "base_uri": "https://localhost:8080/"
        },
        "id": "O7ZokpCExFPZ",
        "outputId": "19b46cdb-cc58-4754-996d-92813cdd87c1"
      },
      "execution_count": null,
      "outputs": [
        {
          "output_type": "stream",
          "name": "stdout",
          "text": [
            "hello world\n"
          ]
        }
      ]
    },
    {
      "cell_type": "code",
      "source": [
        "# basic math\n",
        "x = 5\n",
        "y = (4*x + 4)/2\n",
        "print(y)"
      ],
      "metadata": {
        "colab": {
          "base_uri": "https://localhost:8080/"
        },
        "id": "Zqcg50PFxUTK",
        "outputId": "76af841e-29c5-4053-b1ae-c0702bc15ec6"
      },
      "execution_count": null,
      "outputs": [
        {
          "output_type": "stream",
          "name": "stdout",
          "text": [
            "12.0\n"
          ]
        }
      ]
    },
    {
      "cell_type": "code",
      "source": [
        "x = 2**3  # this is 2 to the 3 power\n",
        "print(x)"
      ],
      "metadata": {
        "colab": {
          "base_uri": "https://localhost:8080/"
        },
        "id": "O3xjoVMUxmYs",
        "outputId": "df1c801a-298c-449e-bc64-50b379741b65"
      },
      "execution_count": null,
      "outputs": [
        {
          "output_type": "stream",
          "name": "stdout",
          "text": [
            "8\n"
          ]
        }
      ]
    },
    {
      "cell_type": "code",
      "source": [
        "# string concatenation and substring\n",
        "s = 'i am a'\n",
        "t = 'string of letters'\n",
        "u = s + ' ' + t\n",
        "print(u) \n",
        "print(t[2:6])"
      ],
      "metadata": {
        "colab": {
          "base_uri": "https://localhost:8080/"
        },
        "id": "2L5UNAt02Lsp",
        "outputId": "34eff179-9772-4b9b-d932-1502e7303596"
      },
      "execution_count": null,
      "outputs": [
        {
          "output_type": "stream",
          "name": "stdout",
          "text": [
            "i am a string of letters\n",
            "ring\n"
          ]
        }
      ]
    },
    {
      "cell_type": "code",
      "source": [
        "#simple loop\n",
        "x = 0\n",
        "while x <3:\n",
        "  x = x + 1\n",
        "  print(x,'SHAME!')"
      ],
      "metadata": {
        "colab": {
          "base_uri": "https://localhost:8080/"
        },
        "id": "eqDeRnUzyGFn",
        "outputId": "2e329a89-d41b-4e7a-cd0d-19b044a3833d"
      },
      "execution_count": null,
      "outputs": [
        {
          "output_type": "stream",
          "name": "stdout",
          "text": [
            "1 SHAME!\n",
            "2 SHAME!\n",
            "3 SHAME!\n"
          ]
        }
      ]
    },
    {
      "cell_type": "code",
      "source": [
        "# this is more common way to implent a loop that repeats three times\n",
        "for i in range(3):\n",
        "  print('YES!')"
      ],
      "metadata": {
        "colab": {
          "base_uri": "https://localhost:8080/"
        },
        "id": "VQnQ6YE5yVok",
        "outputId": "7fcb761b-efe8-4ebc-84af-98abf4205bde"
      },
      "execution_count": null,
      "outputs": [
        {
          "output_type": "stream",
          "name": "stdout",
          "text": [
            "YES!\n",
            "YES!\n",
            "YES!\n"
          ]
        }
      ]
    },
    {
      "cell_type": "code",
      "source": [
        "#simple custom function definition syntax\n",
        "def myDoubleFunction(z):\n",
        "  return 2*z\n",
        "\n",
        "# below is how you call the defined function\n",
        "y = myDoubleFunction(6)\n",
        "print(y)"
      ],
      "metadata": {
        "colab": {
          "base_uri": "https://localhost:8080/"
        },
        "id": "90rYjIcpx0y2",
        "outputId": "73391148-1931-46ea-ba5f-01e37afad9df"
      },
      "execution_count": null,
      "outputs": [
        {
          "output_type": "stream",
          "name": "stdout",
          "text": [
            "12\n"
          ]
        }
      ]
    },
    {
      "cell_type": "code",
      "source": [
        "#conditional\n",
        "x = 5*3+2\n",
        "if x > 10:\n",
        "  print('x is bigger than 10')\n",
        "else:\n",
        "  print('z is not bigger than 10')"
      ],
      "metadata": {
        "colab": {
          "base_uri": "https://localhost:8080/"
        },
        "id": "AiS-aUmY3Ehy",
        "outputId": "99139bda-5aa5-422d-f5e6-6ef28e3e22fa"
      },
      "execution_count": null,
      "outputs": [
        {
          "output_type": "stream",
          "name": "stdout",
          "text": [
            "x is bigger than 10\n"
          ]
        }
      ]
    },
    {
      "cell_type": "code",
      "source": [
        "# list container\n",
        "my_list = [4,5,'frogs'] # a list is a linear container that can hold any type\n",
        "print(my_list[0]) # this is to print first element\n",
        "print(my_list[2]) # this will print the third element\n",
        "my_list.append('lizards') # a list can be extended\n",
        "my_list[0] = 'snakes' # list elements can be changed\n",
        "print(my_list)"
      ],
      "metadata": {
        "colab": {
          "base_uri": "https://localhost:8080/"
        },
        "id": "B-qlpF_ny-Vf",
        "outputId": "bc3eb78c-6283-4518-f558-73b19004f69b"
      },
      "execution_count": null,
      "outputs": [
        {
          "output_type": "stream",
          "name": "stdout",
          "text": [
            "4\n",
            "frogs\n",
            "[4, 5, 'frogs', 'lizards']\n"
          ]
        }
      ]
    }
  ]
}