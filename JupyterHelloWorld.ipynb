{
  "nbformat": 4,
  "nbformat_minor": 0,
  "metadata": {
    "colab": {
      "provenance": [],
      "include_colab_link": true
    },
    "kernelspec": {
      "name": "python3",
      "display_name": "Python 3"
    },
    "language_info": {
      "name": "python"
    }
  },
  "cells": [
    {
      "cell_type": "markdown",
      "metadata": {
        "id": "view-in-github",
        "colab_type": "text"
      },
      "source": [
        "<a href=\"https://colab.research.google.com/github/taylan-sen/intro_jupyter_notebooks/blob/main/JupyterHelloWorld.ipynb\" target=\"_parent\"><img src=\"https://colab.research.google.com/assets/colab-badge.svg\" alt=\"Open In Colab\"/></a>"
      ]
    },
    {
      "cell_type": "markdown",
      "source": [
        "<font color=\"red\">__*PLEASE:* YOU MUST WRITE YOUR OWN CODE, YOU MAY NOT SHARE CODE, YOU CAN DISCUSS WITH EACH OTHER, YOU CAN USE ANY RESOURCE ON THE INTERNET (although you should be able to find all answers in this notebook)__ </font>❗\n",
        "\n",
        "<font color=\"red\">**Also: As a first step, make sure you save your own copy of this notebook in colab.**</font>\n",
        "\n",
        "<font color=\"red\">**Directions:** Follow the directions to answer **all parts** of the 5 questions below.**</font>\n",
        "\n",
        "<hr>\n",
        "\n",
        "**This notebook will introduce you to the jupyter/colab environment.**\n",
        "\n",
        "Sections:\n",
        "* [jupyter](#jupyter)\n",
        "* [markdown](#markdown)\n",
        "* [python](#python)\n",
        "\n",
        "<hr>\n"
      ],
      "metadata": {
        "id": "wUXbBMrAAaYy"
      }
    },
    {
      "cell_type": "markdown",
      "source": [
        "<a name=\"jupyter\"></a>\n",
        "## Jupyter notebooks\n",
        "\n",
        "**Be prepared: _Your brain will be smoking after completing this Python for AI Primer:_**  \n",
        "<img src=\"https://media.tenor.com/images/2a01f8634c43a4b271087eaaaed00575/tenor.gif\" width=\"300\"/>\n",
        "\n",
        "**jupyter (jupyter notebook)** is the name of a program that allows you to display/edit/run interactive python notebooks (aka ***ipython notebooks***, i.e. files with the .ipynb extension), using your web browswer. Google provides a free jupyter tool/service they call **Google Colab** (see [colab.research.google.com](https://colab.research.google.com))  \n",
        "\n",
        "The big advantage of jupyter notebooks (hereinafter we will just call them \"notebooks\") are that you can combine:\n",
        "1. formatted text (documentation)\n",
        "1. python source code, and\n",
        "1. python program output\n",
        "\n",
        "This is particularly useful for sharing your progaming work with others; the formatted documentation is nicer than just using code comments and doesn't require you to provide formatted documentation as a separate file, someone can easily modify and run the code themselves, and those that just want to see the results don't have to run the code (since the results of a run can be saved right in the notebook). Note that if you are developing a large python program, you should probably use an [IDE](# \"interactive development environment\") rather than jupyter.\n",
        "\n",
        "Notebooks are made up of a sequence of vertically stacked ***cells***. Cells can be either **text cells** or **code cells**.  \n",
        "\n",
        "I think Officer K in Bladerunner 2049 was talking about Jupyter when he said: *A system of cells interlinked within cells interlinked within cells interlinked within one... __[notebook?]__*  \n",
        "<img src=\"https://i.ytimg.com/vi/vrP-_T-h9YM/maxresdefault.jpg\" width=\"350\">\n",
        "\n",
        "### text cells\n",
        "In text cells you can write raw text (text without formatting), or \"marked up\" text (which includes special characters, codes, or keywords to allow you to format text and include links, tables, or figures). The most common ***markup language*** you are probably familar with is ***hyper text markup language***, more commonly known as ***HTML***. While notebooks support some HTML, a limitation of HTML is that it is often difficult to read HTML source when not ***rendered*** in a web browswer. The markup language called ***markdown*** was developed to make a language that provides basic formatting ability, while also keeping the source code easily readable. The [**markdown**](#markdown) section below shows some of the basics.  \n",
        "\n",
        "###code cells\n",
        "Code cells should contain valid python code which can be ***run*** by clicking the play button. When running a code cell, jupyter starts up a ***python kernel*** (a separate computer process for running python) which is used to run the code and provide the output which is appended below the code cell. To edit a code cell, you just click on it and start editing. To run a code cell, either click the play button, or press shift-enter.\n",
        "\n",
        "**autosave:** Note that while most jupyter variants implement autosave, you should get into the habit of saving the notebook everytime you make significant progress (which is usually acheived with menu:File->Save or ctrl-s).  \n",
        "\n",
        "**viewer vs. jupyter:** It is sometimes confusing to have an ipython notebook open in your web browser which you cannot edit. For example, [github.com](https://github.com) allows you to view .ipynb files with nice rendering (i.e. the markdown text is nicely formatted and the code cell output is nicely viewable), but it does not link to a python kernel and thus does not let you edit or run cells. Note that you can open and edit an .ipynb file with a simple text editor (such as notepad, textedit, or nano). However, the text cells will not be rendered (you will see the pure text rather than pretty formatting). You will be able to see and edit the code cells. There will also be some weird looking *metadata* and any graphical output will look like gibberish. In summary, stick to jupyter or colab when editing notebooks.\n",
        "\n",
        "### example cells\n",
        "Below is an example text cell followed by an example code cell. Try to edit them."
      ],
      "metadata": {
        "id": "Ra2ilYp4L6C6"
      }
    },
    {
      "cell_type": "markdown",
      "source": [
        "I am a **text cell**! Double click on me to edit me. Then click off of me to let me render."
      ],
      "metadata": {
        "id": "R9mVvMp8vjAC"
      }
    },
    {
      "cell_type": "code",
      "execution_count": null,
      "metadata": {
        "colab": {
          "base_uri": "https://localhost:8080/"
        },
        "id": "PJjUC-UTLayL",
        "outputId": "75defa5c-e429-4012-b17e-4442c9cc6e01"
      },
      "outputs": [
        {
          "output_type": "stream",
          "name": "stdout",
          "text": [
            "Hello World!\n"
          ]
        }
      ],
      "source": [
        "# I am a code cell! Click to play to run me!\n",
        "print('Hello World!')"
      ]
    },
    {
      "cell_type": "markdown",
      "source": [
        "### Question/exercise 1.\n",
        "1. Create a new code cell below this one that prints out your full name using the print function. (Note, you can create a new cell quickly by having your mouse hover between two cells and two buttons should pop up: a \"text\" button to create a new text cell, and a \"code\" button to create a new code cell.).\n",
        "1. Create a new text cell below the code cell that explains the advantages of jupyter notebooks over pure python source code."
      ],
      "metadata": {
        "id": "vix2_W0-QRwh"
      }
    },
    {
      "cell_type": "markdown",
      "source": [
        "<hr>\n",
        "\n",
        "<a name=\"markdown\"></a>\n",
        "## markdown\n",
        "This cell is a text cell. If you are viewing this notebook in jupyter (or google colab), you can double click this cell in order to edit it. Below are some examples of markdown sytax.\n",
        "\n",
        "\n",
        "    ## Heading 2\n",
        "    ### Heading 3\n",
        "    **bold**\n",
        "    *italic*\n",
        "    ***bold and italic***\n",
        "    [link text](https://niagara.edu)\n",
        "    <!-- This is how you comment -->\n",
        "    \n",
        "## Heading 2\n",
        "### Heading 3\n",
        "**bold**\n",
        "*italic*\n",
        "***bold and italic***\n",
        "[link text](https://niagara.edu)\n",
        "<!-- This is how you comment -->\n",
        "\n",
        "See how to make a **Markdown link** in the above. Note that having a newline in markdown does not automatically produce a newline in the rendered output. End a line with two spaces if you when you want to insert a newline.\n",
        "\n",
        "You can typically use many HTML primitives as well:\n",
        "\n",
        "    <h4>html way to do heading 4</h4>\n",
        "    <b>html way to do bold</b>\n",
        "    <font size=\"22\" color='red'>bar</font>\n",
        "    <img src=\"https://bitcoin.org/img/icons/logotop.svg\" width=\"200\">\n",
        "\n",
        "<h4>html way to do heading 4</h4>\n",
        "<b>html way to do bold</b>\n",
        "<font size=\"22\" color='red'>Big Red!</font>\n",
        "<br>\n",
        "The code below shows how to link an image: (double click to see code)\n",
        "<img src=\"https://bitcoin.org/img/icons/logotop.svg\" width=\"200\">  \n",
        "\n",
        "\n",
        "\n"
      ],
      "metadata": {
        "id": "ir6Ln-rFBiFh"
      }
    },
    {
      "cell_type": "markdown",
      "source": [
        "Markdown allow you to create bulleted lists and numbered lists as well. Bulleted lists should start each line with a single asterisk. The number of spaces of indent determines the bullet \"depth\". Numbered lists are created just like bulleted lists, but replace the asterisks with \"1.\" (or any number).\n",
        "\n",
        "For example, the classes I teach are:\n",
        "1. Intro to AI\n",
        "1. Computer Vision\n",
        "1. Computer Networking\n",
        "1. Blockchain, Cryptocurrency, and Smart Contracts"
      ],
      "metadata": {
        "id": "FkFYYD2bSLRi"
      }
    },
    {
      "cell_type": "markdown",
      "source": [
        "\n",
        "You can also incorporate *latex* mathematical formulas:  \n",
        "\n",
        "    $$\\int_0^{2\\pi}$$\n",
        "\n",
        "$$\\int_0^{2\\pi}sin(x)dx = 0$$"
      ],
      "metadata": {
        "id": "QQpnjDpk11Cq"
      }
    },
    {
      "cell_type": "markdown",
      "source": [
        "### Question/exercise 2.\n",
        "\n",
        "Create a text cell below this one that has:\n",
        "1. a markdown link (see Markdown code above) to one of your favorite websites. (i.e. the display text should be \"My Favorite website\").\n",
        "1. linked images (using the img tag code above) of the two original creators of Markdown.\n",
        "1. a markdown numbered list of classes you are taking this semester.\n",
        "1. The text \"Go Purple Eagles!\" in bold, purple text, using formating techniques as described above."
      ],
      "metadata": {
        "id": "j5PWe4GGRNZS"
      }
    },
    {
      "cell_type": "markdown",
      "source": [
        "<hr>\n",
        "\n",
        "<a name='python'></a>\n",
        "## Python\n",
        "\n",
        "Python is a popular programming language that is known for its simple and easily understandable syntax, as well as for its slow performance.\n",
        "\n",
        "**If you have not had a course in python, the tutorial at [w3schools](https://www.w3schools.com/python/). is fairly good. **\n",
        "\n",
        "Just to get you started, below is an example of the bare minimum python basics you will need.\n",
        "<hr>\n",
        "\n",
        "**Some fundamental elements of Python (and most other programming languages as well) are:**\n",
        "\n",
        "* Input/Output (IO)\n",
        "  * console IO - (i.e. text output to the window/screen)\n",
        "  * file IO - (reading and writing to files)\n",
        "\n",
        "* Programming Structures:\n",
        "  * variables\n",
        "  * basic data types\n",
        "  * if statements - (also called conditionals)\n",
        "  * loops\n",
        "  * functions\n",
        "\n",
        "* data structures\n",
        "  * lists (arrays)\n",
        "  * dict (hashtable)"
      ],
      "metadata": {
        "id": "A-mlr8a9BiiH"
      }
    },
    {
      "cell_type": "code",
      "source": [
        "# CONSOLE OUTPUT\n",
        "# Comments start with the hash symbol.\n",
        "print('hello world') # comments can also appear inline"
      ],
      "metadata": {
        "colab": {
          "base_uri": "https://localhost:8080/"
        },
        "id": "O7ZokpCExFPZ",
        "outputId": "19b46cdb-cc58-4754-996d-92813cdd87c1"
      },
      "execution_count": null,
      "outputs": [
        {
          "output_type": "stream",
          "name": "stdout",
          "text": [
            "hello world\n"
          ]
        }
      ]
    },
    {
      "cell_type": "code",
      "source": [
        "# CONSOLE INPUT\n",
        "name = input('What is your name? ')\n",
        "print('Hello', name)"
      ],
      "metadata": {
        "colab": {
          "base_uri": "https://localhost:8080/"
        },
        "id": "HsKEMtclGo4G",
        "outputId": "8319ffac-fb7d-4bc4-d22d-ee5acc747325"
      },
      "execution_count": null,
      "outputs": [
        {
          "output_type": "stream",
          "name": "stdout",
          "text": [
            "What is your name? Monte\n",
            "Hello Monte\n"
          ]
        }
      ]
    },
    {
      "cell_type": "code",
      "source": [
        "# FILE OUTPUT\n",
        "# open a file called test.txt in \"write mode\"\n",
        "output_file = open('test.txt','w')\n",
        "output_file.write('Monte was here.')\n",
        "output_file.close()\n",
        "\n",
        "# FILE INPUT\n",
        "input_file = open('test.txt', 'r')\n",
        "file_text = input_file.readline()\n",
        "input_file.close()\n",
        "print('The file test.txt contents is: ', file_text)"
      ],
      "metadata": {
        "colab": {
          "base_uri": "https://localhost:8080/"
        },
        "id": "Vu5q-fy_G9_x",
        "outputId": "6e0f6f2c-fa7c-422b-8326-47512a479dca"
      },
      "execution_count": null,
      "outputs": [
        {
          "output_type": "stream",
          "name": "stdout",
          "text": [
            "The file test.txt contents is:  Monte was here.\n"
          ]
        }
      ]
    },
    {
      "cell_type": "code",
      "source": [
        "# PROGRAMMING STRUCTURES\n",
        "# VARIABLES\n",
        "a = 5\n",
        "b = a\n",
        "a = 6\n",
        "print('a:', a)\n",
        "print('b:', b)\n",
        "a = 7\n",
        "print('a:', a)\n",
        "print('b:', b)"
      ],
      "metadata": {
        "colab": {
          "base_uri": "https://localhost:8080/"
        },
        "id": "3iC5ZwayKMuo",
        "outputId": "6295e651-029d-4b73-b652-81ffe0333831"
      },
      "execution_count": null,
      "outputs": [
        {
          "output_type": "stream",
          "name": "stdout",
          "text": [
            "a: 6\n",
            "b: 5\n",
            "a: 7\n",
            "b: 5\n"
          ]
        }
      ]
    },
    {
      "cell_type": "code",
      "source": [
        "# BASIC DATA TYPES\n",
        "a = -5\n",
        "b = 2.5\n",
        "c = 'hello'\n",
        "print('type(a):', type(a))\n",
        "print('type(b):', type(b))\n",
        "print('type(c):', type(c))"
      ],
      "metadata": {
        "colab": {
          "base_uri": "https://localhost:8080/"
        },
        "id": "vDS2QvCCLeXg",
        "outputId": "4ee4cf81-5bfd-4d03-8bc5-1597c1e148c4"
      },
      "execution_count": null,
      "outputs": [
        {
          "output_type": "stream",
          "name": "stdout",
          "text": [
            "type(a): <class 'int'>\n",
            "type(b): <class 'float'>\n",
            "type(c): <class 'str'>\n"
          ]
        }
      ]
    },
    {
      "cell_type": "code",
      "source": [
        "# BASIC MATH\n",
        "a = 6 + 7*2\n",
        "print('a:', a)\n",
        "\n",
        "b = (6+7)*2\n",
        "print('b:', b)\n",
        "\n",
        "c = 2**3  # raise power using **\n",
        "print('c:', c)"
      ],
      "metadata": {
        "colab": {
          "base_uri": "https://localhost:8080/"
        },
        "id": "Zqcg50PFxUTK",
        "outputId": "b4792a45-830f-4999-b8b5-5889c07a9aad"
      },
      "execution_count": null,
      "outputs": [
        {
          "output_type": "stream",
          "name": "stdout",
          "text": [
            "a: 20\n",
            "b: 26\n",
            "c: 8\n"
          ]
        }
      ]
    },
    {
      "cell_type": "code",
      "source": [
        "# string concatenation and substring indexing\n",
        "s = 'i am a'\n",
        "t = 'string of letters'\n",
        "u = s + ' ' + t\n",
        "print(u)\n",
        "print(t[2:6])"
      ],
      "metadata": {
        "colab": {
          "base_uri": "https://localhost:8080/"
        },
        "id": "2L5UNAt02Lsp",
        "outputId": "34eff179-9772-4b9b-d932-1502e7303596"
      },
      "execution_count": null,
      "outputs": [
        {
          "output_type": "stream",
          "name": "stdout",
          "text": [
            "i am a string of letters\n",
            "ring\n"
          ]
        }
      ]
    },
    {
      "cell_type": "markdown",
      "source": [
        "### Question/exercise 3.\n",
        "\n",
        "Create a code cell below this one in which:\n",
        "1. You input (i.e. prompt) the user to enter their name, and store it into a variable called x using the input function; then the name followed by the text \"goodbye!\".\n",
        "1. you compute $2^{256}$ (i.e. 2 to the 256th power) and print it out\n",
        "1. you print the 10th through 15th letters of the string \"Go Purple Eagles!!!\""
      ],
      "metadata": {
        "id": "f7QD3apUUIUE"
      }
    },
    {
      "cell_type": "code",
      "source": [
        "# IF STATEMENTS (CONDITIONALS)\n",
        "x = 5*3+2\n",
        "if x > 10:\n",
        "  print('x is bigger than 10')\n",
        "else:\n",
        "  print('z is not bigger than 10')"
      ],
      "metadata": {
        "colab": {
          "base_uri": "https://localhost:8080/"
        },
        "id": "AiS-aUmY3Ehy",
        "outputId": "99139bda-5aa5-422d-f5e6-6ef28e3e22fa"
      },
      "execution_count": null,
      "outputs": [
        {
          "output_type": "stream",
          "name": "stdout",
          "text": [
            "x is bigger than 10\n"
          ]
        }
      ]
    },
    {
      "cell_type": "code",
      "source": [
        "# WHILE LOOP\n",
        "x = 0\n",
        "while x <3:\n",
        "  x = x + 1\n",
        "  print(x,'SHAME!')"
      ],
      "metadata": {
        "colab": {
          "base_uri": "https://localhost:8080/"
        },
        "id": "eqDeRnUzyGFn",
        "outputId": "2e329a89-d41b-4e7a-cd0d-19b044a3833d"
      },
      "execution_count": null,
      "outputs": [
        {
          "output_type": "stream",
          "name": "stdout",
          "text": [
            "1 SHAME!\n",
            "2 SHAME!\n",
            "3 SHAME!\n"
          ]
        }
      ]
    },
    {
      "cell_type": "markdown",
      "source": [
        "<img src=\"https://tv-fanatic-res.cloudinary.com/iu/s--kSPVyYUL--/t_xlarge_l/cs_srgb,f_auto,fl_strip_profile.lossy,q_auto:420/v1490231460/attachment/got-shame.gif\" width=\"300\">\n",
        "\n",
        "Its a shame that the above code cell is not using the more ***pythonic*** way to do fixed loops. There is a religious following in the python community to code things in a simple, readible way, following common conventions. When writing a simple fixed loop in python, it is more common to use the format below.\n"
      ],
      "metadata": {
        "id": "LJWNtHOlcS4-"
      }
    },
    {
      "cell_type": "code",
      "source": [
        "# FOR LOOP\n",
        "# this is the more common way (i.e. pythonic way) to implent a loop\n",
        "for i in range(3):\n",
        "  print('I LOOOOOOVE BITCONNECT!')"
      ],
      "metadata": {
        "colab": {
          "base_uri": "https://localhost:8080/"
        },
        "id": "VQnQ6YE5yVok",
        "outputId": "a38ae87a-0c4b-497d-8745-b5e30d33d954"
      },
      "execution_count": null,
      "outputs": [
        {
          "output_type": "stream",
          "name": "stdout",
          "text": [
            "I LOOOOOOVE BITCONNECT!\n",
            "I LOOOOOOVE BITCONNECT!\n",
            "I LOOOOOOVE BITCONNECT!\n"
          ]
        }
      ]
    },
    {
      "cell_type": "markdown",
      "source": [
        "<!-- <img src=\"https://fintechnews.sg/wp-content/uploads/2019/03/bitconnect-ico-scam-meme.jpg\" width=\"250\"> -->\n",
        "<img src=\"https://thumbs.gfycat.com/SecondaryDistinctCapybara-max-1mb.gif\" width=\"250\">"
      ],
      "metadata": {
        "id": "VGlNPkKAcB5q"
      }
    },
    {
      "cell_type": "markdown",
      "source": [
        "### Question/exercise 4.\n",
        "\n",
        "Use the python input function to ask the user's name. If the name is equal to 'Monte', use a for loop to print 'HELLO MONTE!' five times, otherwise print the user's name two times. Run the code cell so that there is output demonstrating it working."
      ],
      "metadata": {
        "id": "sA9ZmIDnU6Lk"
      }
    },
    {
      "cell_type": "code",
      "source": [
        "# FUNCTIONS\n",
        "# simple custom function definition syntax\n",
        "def myDoubleFunction(z):\n",
        "  return 2*z\n",
        "\n",
        "# below is how you call the defined function\n",
        "y = myDoubleFunction(6)\n",
        "print(y)"
      ],
      "metadata": {
        "colab": {
          "base_uri": "https://localhost:8080/"
        },
        "id": "90rYjIcpx0y2",
        "outputId": "73391148-1931-46ea-ba5f-01e37afad9df"
      },
      "execution_count": null,
      "outputs": [
        {
          "output_type": "stream",
          "name": "stdout",
          "text": [
            "12\n"
          ]
        }
      ]
    },
    {
      "cell_type": "code",
      "source": [
        "# LISTS\n",
        "my_list = [4,5,'frogs'] # a list is a linear container that can hold any type\n",
        "print(my_list[0]) # this is to print first element\n",
        "print(my_list[2]) # this will print the third element\n",
        "my_list.append('lizards') # a list can be extended\n",
        "my_list[0] = 'snakes' # list elements can be changed\n",
        "print('my_list', my_list)"
      ],
      "metadata": {
        "colab": {
          "base_uri": "https://localhost:8080/"
        },
        "id": "B-qlpF_ny-Vf",
        "outputId": "d91fe31f-7472-4940-b7fa-7c4827a00b08"
      },
      "execution_count": null,
      "outputs": [
        {
          "output_type": "stream",
          "name": "stdout",
          "text": [
            "4\n",
            "frogs\n",
            "my_list ['snakes', 5, 'frogs', 'lizards']\n",
            "b_list: ['snakes', 5, 'frogs', 'lizards']\n"
          ]
        }
      ]
    },
    {
      "cell_type": "code",
      "source": [
        "# TWO VARIABLES POINTING TO SAME LIST\n",
        "# initialize a\n",
        "a = 5\n",
        "a_list = [5,6]\n",
        "\n",
        "# assign b to a\n",
        "b = a\n",
        "b_list = a_list\n",
        "\n",
        "#change a\n",
        "a = 10\n",
        "a_list[0] = 10\n",
        "\n",
        "print('a=', a)\n",
        "print('a_list = ', a_list)\n",
        "print('b=', b)\n",
        "print('b_list = ', b_list)"
      ],
      "metadata": {
        "colab": {
          "base_uri": "https://localhost:8080/"
        },
        "id": "fXDSWyKHMe6L",
        "outputId": "5f60afc0-52c4-4063-aa37-01a2793356bc"
      },
      "execution_count": null,
      "outputs": [
        {
          "output_type": "stream",
          "name": "stdout",
          "text": [
            "a= 10\n",
            "a_list =  [10, 6]\n",
            "b= 5\n",
            "b_list =  [10, 6]\n"
          ]
        }
      ]
    },
    {
      "cell_type": "code",
      "source": [
        "# DICT (AKA HASHTABLE)\n",
        "# A dict is a data structure that allows you to associate a value with a 'key'.\n",
        "# Looking up a stored value associated with the key is very fast.\n",
        "name2age = {'Alice':18, 'Bob':21} # Alice and Bob are the keys\n",
        "name2age['Charlie'] = 17\n",
        "print(name2age['Alice'])\n",
        "print(name2age['Bob'])\n",
        "print(name2age['Charlie'])"
      ],
      "metadata": {
        "colab": {
          "base_uri": "https://localhost:8080/"
        },
        "id": "DiC74fCmPS4o",
        "outputId": "fedd18d8-b561-45cf-d719-9f03016ee1cf"
      },
      "execution_count": null,
      "outputs": [
        {
          "output_type": "stream",
          "name": "stdout",
          "text": [
            "18\n",
            "21\n",
            "17\n"
          ]
        }
      ]
    },
    {
      "cell_type": "markdown",
      "source": [
        "### Question/exercise 5\n",
        "\n",
        "1. Create a new code cell that defines a function called ReturnVolume, which takes as input a radius of a cube, and then returns the cube's volume. (Recall that the volume of a cube is the radius raised to the 3rd power.) Provide code both defines and tests out your function.\n",
        "1. Google practice. Use a google search to answer the question: *How can you add an element to a list at the beginning of the list (as compared to append which adds an element to the end)?* .i.e. don't just paste this exact text into google.\n",
        "    * Below, create a new text cell in which you paste your google search text.\n",
        "    * Also, in your own words, after reading some google search results, type the answer to the question.\n"
      ],
      "metadata": {
        "id": "qqbmcE_tP0cY"
      }
    },
    {
      "cell_type": "markdown",
      "source": [
        "<hr>\n",
        "\n",
        "<a name=\"interactive development environment\"></a>\n",
        "## IDE (interactive development environment)\n",
        "\n",
        "If you are developing a large or difficult python program, you should use an IDE instead of jupyter notebooks. An IDE will provide an advanced editory, allow you to step through code, allow you to inspect variables while the program is running, and provide many other useful tools to write and test python code. I recommend using the **Wing IDE** professional version, which you can get for free as a student. (see [Wing IDE](https://wingware.com/))"
      ],
      "metadata": {
        "id": "dS4A5q4bLHUh"
      }
    },
    {
      "cell_type": "markdown",
      "source": [
        "### Binary numbers\n",
        "\n",
        "We talked in class about how digital computers represent data using 1's and 0's or *binary*.\n",
        "\n",
        "When integers (or more generally any data) are printed to the screen, it can be in a different base number system than the decimal (base 10) system we are familiar with.\n",
        "\n",
        "**Base 10.** In the base 10 number system, we use the digits 0,1,2,3,4,5,6,7,8,9. A shift of one digit to the left means the digit represents 10 times more (ex: 2 and 20), two spaces to the left means multiplying by 100. Stated another way, the rightmost position of a base 10 integer represents the number of *ones* ($10^0$), the second from the right position represents the number of *tens* ($10^1$), the third from the right position represents the number of *hundreds* ($10^2$), and the $n^{th}$ position from the right represents the number of $10^ns$. For example, the number 234 means: four ones, three tens, and two hundreds.\n",
        "\n",
        "**In base 2**, or binary, only the digits 0 and 1 are used. For example, 101 is a binary number representing the decimal number 5. (Note: we usually write binary numbers with a leading \"0b\" so that we don't confuse them with decimal numbers, i.e. 101 --> 0b101) The rightmost binary integer position represents the number of *ones* ($2^0$), the second from the right position represents the number of *twos* ($2^1$), the third position from the right represents the number of *fours* ($2^2$), the fourth position from the right represents the number of *eights* ($2^3$), and so on. Base 2 is especially important for computers since data is usually represented by elements that can be in one of only two states. For example, as mentioned earlier, the voltage on a wire can be either high or low, representing either a 1 or 0. Each digit in binary represents a ***bit*** of data. Eight bits of data are called a ***byte***.\n",
        "\n",
        "**In base 16**, also called hexadecimal, the sixteen digits 0,1,2,3,4,5,6,7,8,9,A,B,C,D,E,F are used. When writing a number in hexadecimal, we usually write it with a leading \"0x\". For example 0x10 represents 16 in base ten. A shift of one to the left represents multiplying by 16, a shift of two to the left represents multiplying by 256 (i.e. 16*16), and shifting by $n$ spaces to the left represents multiplying by $16^n$).\n",
        "\n",
        "\n",
        "|Decimal|Binary|Hexadecimal|\n",
        "|---:|---:|---:|\n",
        "|0|0|0|\n",
        "|1|1|1|\n",
        "|2|10|2|\n",
        "|3|11|3|\n",
        "|4|100|4|\n",
        "|5|101|5|\n",
        "|6|110|6|\n",
        "|7|111|7|\n",
        "|8|1000|8|\n",
        "|9|1001|9|\n",
        "|10|1010|A|\n",
        "|11|1011|B|\n",
        "|12|1100|C|\n",
        "|13|1101|D|\n",
        "|14|1110|E|\n",
        "|15|1111|F|\n",
        "|16|10000|10|\n",
        "|17|10001|11|\n",
        "\n",
        "Python provides some useful functions for converting numbers between bases:\n",
        "\n",
        "    bin(<input int>)                 # convert a number TO a binary str\n",
        "    hex(<input int>)                 # convert a number TO a hexadecimal str\n",
        "    int(<input str>, <source base>)  # convert FROM a base other than 10"
      ],
      "metadata": {
        "id": "ahwO3uWyTmga"
      }
    },
    {
      "cell_type": "code",
      "source": [
        "# bin and hex\n",
        "# The bin function converts an int (base 10) to a binary string\n",
        "b = bin(13)\n",
        "print('13 in binary is: ',b)\n",
        "print('type(b)=', type(b))\n",
        "\n",
        "# the hex function converts an int (base 10) into a base 16 string\n",
        "h = hex(13)\n",
        "print('13 in hexadecimal is: ',h)\n",
        "print('type(h)=', type(h))"
      ],
      "metadata": {
        "id": "LOHQs80D5CG8"
      },
      "execution_count": null,
      "outputs": []
    },
    {
      "cell_type": "code",
      "source": [
        "# int conversion\n",
        "# the int function can convert from a different base back into an int\n",
        "d = int(b,2) # binary to decimal\n",
        "print('d=',d)\n",
        "print('type(d)=', type(d))\n",
        "\n",
        "d2 = int(h,16) # hexadecimal to decimal\n",
        "print('d2=',d2)\n",
        "print('type(d2)=', type(d2))\n"
      ],
      "metadata": {
        "id": "gGIBEr8JcsXj"
      },
      "execution_count": null,
      "outputs": []
    },
    {
      "cell_type": "markdown",
      "source": [
        "### Question/exercise 6\n",
        "\n",
        "1. In a new code cell below, use the functions above to print out the decimal numbers 7, 1776, 2024 in binary.\n",
        "2. In a new code cell below, use the functions above to print out the decimal representation of the binary number 0b1011010101110101."
      ],
      "metadata": {
        "id": "cyHMgqqfUa10"
      }
    },
    {
      "cell_type": "markdown",
      "source": [
        "\n",
        "<hr>\n",
        "\n",
        "**SUBMISSION: Be sure to save this notebook, then download the .ipynb to your computer; and then submit (upload) the .ipynb file to the canvas assignment submission page.**"
      ],
      "metadata": {
        "id": "dxLfMgyyN3ju"
      }
    }
  ]
}